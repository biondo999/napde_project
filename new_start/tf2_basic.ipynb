{
 "cells": [
  {
   "cell_type": "code",
   "execution_count": 1,
   "metadata": {},
   "outputs": [
    {
     "name": "stderr",
     "output_type": "stream",
     "text": [
      "2023-09-23 22:56:07.744188: I tensorflow/core/util/port.cc:110] oneDNN custom operations are on. You may see slightly different numerical results due to floating-point round-off errors from different computation orders. To turn them off, set the environment variable `TF_ENABLE_ONEDNN_OPTS=0`.\n",
      "2023-09-23 22:56:07.745485: I tensorflow/tsl/cuda/cudart_stub.cc:28] Could not find cuda drivers on your machine, GPU will not be used.\n",
      "2023-09-23 22:56:07.779703: I tensorflow/tsl/cuda/cudart_stub.cc:28] Could not find cuda drivers on your machine, GPU will not be used.\n",
      "2023-09-23 22:56:07.780147: I tensorflow/core/platform/cpu_feature_guard.cc:182] This TensorFlow binary is optimized to use available CPU instructions in performance-critical operations.\n",
      "To enable the following instructions: AVX2 AVX512F AVX512_VNNI FMA, in other operations, rebuild TensorFlow with the appropriate compiler flags.\n",
      "2023-09-23 22:56:08.463952: W tensorflow/compiler/tf2tensorrt/utils/py_utils.cc:38] TF-TRT Warning: Could not find TensorRT\n"
     ]
    },
    {
     "name": "stdout",
     "output_type": "stream",
     "text": [
      "<module 'tensorflow._api.v2.version' from '/home/mariano/Documenti/test/base/lib/python3.9/site-packages/tensorflow/_api/v2/version/__init__.py'>\n"
     ]
    }
   ],
   "source": [
    "import tensorflow as tf\n",
    "print(tf.version)\n",
    "import numpy as np"
   ]
  },
  {
   "cell_type": "code",
   "execution_count": 11,
   "metadata": {},
   "outputs": [
    {
     "name": "stdout",
     "output_type": "stream",
     "text": [
      "tf.Tensor(\n",
      "[[1. ]\n",
      " [2. ]\n",
      " [3.6]], shape=(3, 1), dtype=float32)\n"
     ]
    }
   ],
   "source": [
    "v=np.array([1.0,2.0,3.6])\n",
    "\n",
    "print(tf.constant(v[:, np.newaxis], dtype=tf.float32))"
   ]
  },
  {
   "cell_type": "code",
   "execution_count": 15,
   "metadata": {},
   "outputs": [],
   "source": [
    "const_tensor = tf.constant([1, 2, 3])\n",
    "\n",
    "modified_tensor=const_tensor+1\n",
    "\n",
    "\n",
    "#you can do that but be carefull!!!!"
   ]
  },
  {
   "cell_type": "code",
   "execution_count": 17,
   "metadata": {},
   "outputs": [
    {
     "name": "stdout",
     "output_type": "stream",
     "text": [
      "()\n",
      "(5,)\n",
      "(2, 3)\n",
      "(3, 3, 1)\n"
     ]
    }
   ],
   "source": [
    "scalar = tf.constant(10)\n",
    "vector = tf.constant([1,2,3,4,5])\n",
    "matrix = tf.constant([[1,2,3],[4,5,6]])\n",
    "cube= tf.constant([[[1],\n",
    "[2],[3]],[[4],[5],[6]],[[7],[8],[9]]])\n",
    "print(scalar.get_shape())\n",
    "print(vector.get_shape())\n",
    "print(matrix.get_shape())\n",
    "print(cube.get_shape())"
   ]
  },
  {
   "cell_type": "code",
   "execution_count": 18,
   "metadata": {},
   "outputs": [
    {
     "name": "stdout",
     "output_type": "stream",
     "text": [
      "result = tf.Tensor(34, shape=(), dtype=int32)\n"
     ]
    }
   ],
   "source": [
    "#when you do operations with tf.const tf.var declare the function a @tf.function\n",
    "#Since graphs can still be useful,@tf.function transparently converts Python functions into functions that are “backed” by graphs.Remember that @tf.function works best with TF 2 operations instead of NumPy opera-tions or Python primitives.\n",
    "@tf.function\n",
    "def calc_prod(x, y):\n",
    "    z = 2*x + 3*y\n",
    "    return z\n",
    "\n",
    "\n",
    "x = tf.constant(5,name=\"x\")\n",
    "y = tf.constant(8,name=\"y\")\n",
    "result = calc_prod(x, y)\n",
    "print('result =',result)"
   ]
  },
  {
   "cell_type": "code",
   "execution_count": 25,
   "metadata": {},
   "outputs": [
    {
     "name": "stdout",
     "output_type": "stream",
     "text": [
      "tf.Tensor(6, shape=(), dtype=int32)\n"
     ]
    }
   ],
   "source": [
    "a = tf.add(4, 2)\n",
    "@tf.function\n",
    "def compute_values():\n",
    "    print(a) # 6\n",
    "compute_values()"
   ]
  },
  {
   "cell_type": "code",
   "execution_count": 27,
   "metadata": {},
   "outputs": [
    {
     "name": "stdout",
     "output_type": "stream",
     "text": [
      "Tensor(\"Add:0\", shape=(), dtype=int32)\n"
     ]
    }
   ],
   "source": [
    "@tf.function\n",
    "def compute_values():\n",
    "    a = tf.add(4, 2) #it doesn't compute the add opration it only holds types \n",
    "    print(a)\n",
    "compute_values()"
   ]
  },
  {
   "cell_type": "code",
   "execution_count": 28,
   "metadata": {},
   "outputs": [
    {
     "name": "stdout",
     "output_type": "stream",
     "text": [
      "6\n"
     ]
    }
   ],
   "source": [
    "@tf.function\n",
    "def compute_values():\n",
    "    a = tf.add(4, 2) #it doesn't compute the add opration it only holds types \n",
    "    tf.print(a)  # to print \n",
    "compute_values()"
   ]
  },
  {
   "cell_type": "code",
   "execution_count": 29,
   "metadata": {},
   "outputs": [
    {
     "name": "stdout",
     "output_type": "stream",
     "text": [
      "tf.Tensor(6, shape=(), dtype=int32)\n"
     ]
    }
   ],
   "source": [
    "#or if you want the operation computed\n",
    "\n",
    "def compute_values():\n",
    "    a = tf.add(4, 2)\n",
    "    return a  # to print \n",
    "\n",
    "print(compute_values())"
   ]
  },
  {
   "cell_type": "code",
   "execution_count": 19,
   "metadata": {},
   "outputs": [
    {
     "name": "stdout",
     "output_type": "stream",
     "text": [
      "<tf.Variable 'Variable:0' shape=(2, 10) dtype=float32, numpy=\n",
      "array([[0., 0., 0., 0., 0., 0., 0., 0., 0., 0.],\n",
      "       [0., 0., 0., 0., 0., 0., 0., 0., 0., 0.]], dtype=float32)>\n"
     ]
    }
   ],
   "source": [
    "#initialize var to zero\n",
    "var=tf.Variable(initial_value=tf.zeros(shape=(2,10),dtype=tf.float32))\n",
    "\n",
    "print(var)"
   ]
  },
  {
   "cell_type": "code",
   "execution_count": 20,
   "metadata": {},
   "outputs": [
    {
     "name": "stdout",
     "output_type": "stream",
     "text": [
      "v.value(): tf.Tensor(\n",
      "[[1. 2. 3.]\n",
      " [4. 5. 6.]], shape=(2, 3), dtype=float32)\n",
      "\n",
      "v.numpy(): [[1. 2. 3.]\n",
      " [4. 5. 6.]]\n",
      "\n"
     ]
    }
   ],
   "source": [
    "#you can convert tf.variable to a numpy array\n",
    "v = tf.Variable([[1., 2., 3.], [4., 5., 6.]])\n",
    "print(\"v.value():\", v.value())\n",
    "print(\"\")\n",
    "print(\"v.numpy():\", v.numpy())\n",
    "print(\"\")"
   ]
  },
  {
   "cell_type": "code",
   "execution_count": 23,
   "metadata": {},
   "outputs": [
    {
     "name": "stdout",
     "output_type": "stream",
     "text": [
      "rank of A: tf.Tensor(0, shape=(), dtype=int32) shape of A: tf.Tensor([], shape=(0,), dtype=int32)\n",
      "rank of B: tf.Tensor(2, shape=(), dtype=int32) shape of B: tf.Tensor([2 2], shape=(2,), dtype=int32)\n",
      "rank of C: tf.Tensor(1, shape=(), dtype=int32) shape of C: tf.Tensor([3], shape=(1,), dtype=int32)\n"
     ]
    }
   ],
   "source": [
    "A = tf.constant(3.0)\n",
    "B = tf.constant([[2,3],[5.0,1.0]])\n",
    "C = tf.constant([3.0, 4.0,6.0])\n",
    "\n",
    "print('rank of A:',tf.rank(A),\"shape of A:\",tf.shape(A))\n",
    "print('rank of B:',tf.rank(B),\"shape of B:\",tf.shape(B))\n",
    "print('rank of C:',tf.rank(C),\"shape of C:\",tf.shape(C))\n",
    "\n"
   ]
  },
  {
   "cell_type": "code",
   "execution_count": null,
   "metadata": {},
   "outputs": [],
   "source": [
    "#TF variables represent your model’s trainable parameters (e.g.,weights and biases of a neural network), whereas TF tensors represent thedata fed into your model and the intermediate representations of that data asit passes through your model."
   ]
  },
  {
   "cell_type": "code",
   "execution_count": null,
   "metadata": {},
   "outputs": [],
   "source": []
  },
  {
   "cell_type": "code",
   "execution_count": 40,
   "metadata": {},
   "outputs": [
    {
     "name": "stdout",
     "output_type": "stream",
     "text": [
      "[[10. 10.]\n",
      " [11.  1.]]\n"
     ]
    }
   ],
   "source": [
    "@tf.function\n",
    "def func():\n",
    "    a = tf.constant([[10,10],[11.,1.]])\n",
    "    b = tf.constant([[1.,0.],[0.,1.]])\n",
    "    c = tf.matmul(a, b)\n",
    "    return c\n",
    "print(func().numpy())\n",
    "#pointwise row moltiplication \n"
   ]
  },
  {
   "cell_type": "code",
   "execution_count": 42,
   "metadata": {},
   "outputs": [
    {
     "name": "stdout",
     "output_type": "stream",
     "text": [
      "[[10. 10.]\n",
      " [11.  1.]]\n"
     ]
    }
   ],
   "source": [
    "def func():\n",
    "    a = tf.constant([[10,10],[11.,1.]])\n",
    "    b = tf.constant([[1.,0.],[0.,1.]])\n",
    "    c = tf.matmul(a, b)\n",
    "    return c\n",
    "print(func().numpy())"
   ]
  },
  {
   "cell_type": "code",
   "execution_count": 43,
   "metadata": {},
   "outputs": [
    {
     "name": "stdout",
     "output_type": "stream",
     "text": [
      "def tf__func():\n",
      "    with ag__.FunctionScope('func', 'fscope', ag__.ConversionOptions(recursive=True, user_requested=True, optional_features=(), internal_convert_user_code=True)) as fscope:\n",
      "        do_return = False\n",
      "        retval_ = ag__.UndefinedReturnValue()\n",
      "        a = ag__.converted_call(ag__.ld(tf).constant, ([[10, 10], [11.0, 1.0]],), None, fscope)\n",
      "        b = ag__.converted_call(ag__.ld(tf).constant, ([[1.0, 0.0], [0.0, 1.0]],), None, fscope)\n",
      "        c = ag__.converted_call(ag__.ld(tf).matmul, (ag__.ld(a), ag__.ld(b)), None, fscope)\n",
      "        try:\n",
      "            do_return = True\n",
      "            retval_ = ag__.ld(c)\n",
      "        except:\n",
      "            do_return = False\n",
      "            raise\n",
      "        return fscope.ret(retval_, do_return)\n",
      "\n"
     ]
    }
   ],
   "source": [
    "print(tf.autograph.to_code(func)) #to see the aoutograph generated by a function works only with not #tf.functions"
   ]
  },
  {
   "cell_type": "code",
   "execution_count": 47,
   "metadata": {},
   "outputs": [
    {
     "name": "stdout",
     "output_type": "stream",
     "text": [
      "diff: tf.Tensor([3. 2.], shape=(2,), dtype=float32)\n",
      "diff: tf.Tensor([3. 2.], shape=(2,), dtype=float32)\n"
     ]
    }
   ],
   "source": [
    "v1 = tf.Variable([4.0, 4.0])\n",
    "c1 = tf.constant([1.0, 2.0])\n",
    "diff = tf.subtract(v1,c1)\n",
    "print(\"diff:\",diff)\n",
    "\n",
    "v1=v1+1\n",
    "\n",
    "print(\"diff:\",diff)\n",
    "\n",
    "#is like you would expect"
   ]
  },
  {
   "cell_type": "code",
   "execution_count": 60,
   "metadata": {},
   "outputs": [
    {
     "name": "stdout",
     "output_type": "stream",
     "text": [
      "x: tf.Tensor(\n",
      "[[1. 2. 3.]\n",
      " [4. 5. 6.]], shape=(2, 3), dtype=float32)\n",
      "\n",
      "x.shape: (2, 3)\n",
      "\n",
      "x.dtype: <dtype: 'float32'>\n",
      "\n",
      "x[:, 1:]: tf.Tensor(\n",
      "[[2. 3.]\n",
      " [5. 6.]], shape=(2, 2), dtype=float32)\n",
      "\n",
      "x[..., 1, tf.newaxis]: tf.Tensor(\n",
      "[[2.]\n",
      " [5.]], shape=(2, 1), dtype=float32)\n",
      "\n",
      "x[1]: tf.Tensor([4. 5. 6.], shape=(3,), dtype=float32)\n",
      "\n",
      "x + 10: tf.Tensor(\n",
      "[[11. 12. 13.]\n",
      " [14. 15. 16.]], shape=(2, 3), dtype=float32)\n",
      "\n",
      "tf.square(x): tf.Tensor(\n",
      "[[ 1.  4.  9.]\n",
      " [16. 25. 36.]], shape=(2, 3), dtype=float32)\n",
      "\n",
      "x @ tf.transpose(x): tf.Tensor(\n",
      "[[14. 32.]\n",
      " [32. 77.]], shape=(2, 2), dtype=float32)\n"
     ]
    }
   ],
   "source": [
    "#operation of tensors\n",
    "\n",
    "x = tf.constant([[1., 2., 3.], [4., 5., 6.]])\n",
    "print(\"x:\", x)\n",
    "print(\"\")\n",
    "print(\"x.shape:\", x.shape)\n",
    "print(\"\")\n",
    "print(\"x.dtype:\", x.dtype)\n",
    "print(\"\")\n",
    "print(\"x[:, 1:]:\", x[:, 1:])\n",
    "print(\"\")\n",
    "print(\"x[..., 1, tf.newaxis]:\", x[..., 1, tf.newaxis])\n",
    "print(\"\")\n",
    "print(\"x[1]:\", x[1])\n",
    "print(\"\")\n",
    "print(\"x + 10:\", x + 10)\n",
    "print(\"\")\n",
    "print(\"tf.square(x):\", tf.square(x))\n",
    "print(\"\")\n",
    "print(\"x @ tf.transpose(x):\", x @ tf.transpose(x)) #for standard matrix vec mult\n"
   ]
  },
  {
   "cell_type": "code",
   "execution_count": 55,
   "metadata": {},
   "outputs": [
    {
     "name": "stdout",
     "output_type": "stream",
     "text": [
      "m1: tf.Tensor(\n",
      "[[ 1.  2.  4.]\n",
      " [ 3.  6. 12.]], shape=(2, 3), dtype=float32)\n",
      "m1 + 50: tf.Tensor(\n",
      "[[51. 52. 54.]\n",
      " [53. 56. 62.]], shape=(2, 3), dtype=float32)\n",
      "m1 * 2: tf.Tensor(\n",
      "[[ 2.  4.  8.]\n",
      " [ 6. 12. 24.]], shape=(2, 3), dtype=float32)\n",
      "tf.square(m1): tf.Tensor(\n",
      "[[  1.   4.  16.]\n",
      " [  9.  36. 144.]], shape=(2, 3), dtype=float32)\n"
     ]
    }
   ],
   "source": [
    "m1 = tf.constant([[1., 2., 4.], [3., 6., 12.]])\n",
    "print(\"m1:\", m1)\n",
    "print(\"m1 + 50:\", m1 + 50)\n",
    "print(\"m1 * 2:\", m1 * 2)\n",
    "print(\"tf.square(m1):\", tf.square(m1))"
   ]
  },
  {
   "cell_type": "code",
   "execution_count": 61,
   "metadata": {},
   "outputs": [],
   "source": [
    "def call():\n",
    "    return x*x*w*w"
   ]
  },
  {
   "cell_type": "code",
   "execution_count": 68,
   "metadata": {},
   "outputs": [
    {
     "name": "stdout",
     "output_type": "stream",
     "text": [
      "tf.Tensor(36.0, shape=(), dtype=float32)\n",
      "tf.Tensor(24.0, shape=(), dtype=float32)\n"
     ]
    }
   ],
   "source": [
    "x=tf.Variable(1,dtype=tf.float32)\n",
    "w=tf.Variable(3,dtype=tf.float32)\n",
    "\n",
    "d=tf.constant(0,dtype=tf.float32)\n",
    "with tf.GradientTape() as tape:\n",
    "    #tape.watch(w)  #the same is you have proper variables\n",
    "\n",
    "    for i in range(2):\n",
    "        with tf.GradientTape() as tape_:\n",
    "            tape_.watch(x)\n",
    "            z=call()\n",
    "        d+=tape_.gradient(z,x)\n",
    "res=tape.gradient(d,w)\n",
    "\n",
    "print(d)\n",
    "print(res)"
   ]
  },
  {
   "cell_type": "code",
   "execution_count": 72,
   "metadata": {},
   "outputs": [
    {
     "name": "stdout",
     "output_type": "stream",
     "text": [
      "tf.Tensor(\n",
      "[[1. 1. 1.]\n",
      " [1. 1. 1.]\n",
      " [1. 1. 1.]], shape=(3, 3), dtype=float32)\n",
      "\n",
      "y: tf.Tensor(9.0, shape=(), dtype=float32)\n",
      "z: tf.Tensor(81.0, shape=(), dtype=float32)\n",
      "z: tf.Tensor(729.0, shape=(), dtype=float32)\n",
      "dz_dy: tf.Tensor(243.0, shape=(), dtype=float32)\n"
     ]
    }
   ],
   "source": [
    "x = tf.ones((3, 3))\n",
    "print(x)\n",
    "print()\n",
    "with tf.GradientTape() as t:\n",
    "    t.watch(x)\n",
    "    y = tf.reduce_sum(x)\n",
    "    print(\"y:\",y)\n",
    "    z = tf.multiply(y, y)\n",
    "    print(\"z:\",z)\n",
    "    z = tf.multiply(z, y)\n",
    "    print(\"z:\",z)\n",
    "# the derivative of z with respect to y\n",
    "dz_dy = t.gradient(z, y)\n",
    "print(\"dz_dy:\",dz_dy)\n"
   ]
  },
  {
   "cell_type": "code",
   "execution_count": null,
   "metadata": {},
   "outputs": [],
   "source": [
    "a=tf.constant([[1,2],[3,4]])\n",
    "x=tf.constant([[1,2]])\n",
    "\n",
    "print(a)\n",
    "print(x)"
   ]
  }
 ],
 "metadata": {
  "kernelspec": {
   "display_name": "base",
   "language": "python",
   "name": "python3"
  },
  "language_info": {
   "codemirror_mode": {
    "name": "ipython",
    "version": 3
   },
   "file_extension": ".py",
   "mimetype": "text/x-python",
   "name": "python",
   "nbconvert_exporter": "python",
   "pygments_lexer": "ipython3",
   "version": "3.9.6"
  },
  "orig_nbformat": 4
 },
 "nbformat": 4,
 "nbformat_minor": 2
}
