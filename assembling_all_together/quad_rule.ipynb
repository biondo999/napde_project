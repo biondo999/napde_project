{
 "cells": [
  {
   "cell_type": "code",
   "execution_count": 1,
   "metadata": {},
   "outputs": [
    {
     "name": "stdout",
     "output_type": "stream",
     "text": [
      "Quadrature Points:\n",
      "[[-0.77459667 -0.77459667  0.77459667]\n",
      " [-0.77459667  0.          0.        ]\n",
      " [-0.77459667  0.77459667 -0.77459667]\n",
      " [ 0.         -0.77459667  0.        ]\n",
      " [ 0.          0.         -0.77459667]\n",
      " [ 0.77459667 -0.77459667 -0.77459667]]\n",
      "Quadrature Weights:\n",
      "[0.17146776 0.43895748 0.17146776 0.43895748 0.43895748 0.17146776]\n"
     ]
    }
   ],
   "source": [
    "import numpy as np\n",
    "from scipy.special import comb\n",
    "\n",
    "def gauss_quadrature_triangle(order):\n",
    "    points, weights = np.polynomial.legendre.leggauss(order)\n",
    "    num_points = len(points)\n",
    "    quad_points = []\n",
    "    quad_weights = []\n",
    "    \n",
    "    for i in range(num_points):\n",
    "        for j in range(num_points - i):\n",
    "            quad_points.append([points[i], points[j], points[num_points - i - j - 1]])\n",
    "            quad_weights.append(weights[i] * weights[j] * weights[num_points - i - j - 1])\n",
    "    \n",
    "    return np.array(quad_points), np.array(quad_weights)\n",
    "\n",
    "# Example usage\n",
    "order = 3  # Change the order as needed\n",
    "quad_points, quad_weights = gauss_quadrature_triangle(order)\n",
    "print(\"Quadrature Points:\")\n",
    "print(quad_points)\n",
    "print(\"Quadrature Weights:\")\n",
    "print(quad_weights)\n"
   ]
  },
  {
   "cell_type": "code",
   "execution_count": null,
   "metadata": {},
   "outputs": [],
   "source": []
  }
 ],
 "metadata": {
  "kernelspec": {
   "display_name": "base",
   "language": "python",
   "name": "python3"
  },
  "language_info": {
   "codemirror_mode": {
    "name": "ipython",
    "version": 3
   },
   "file_extension": ".py",
   "mimetype": "text/x-python",
   "name": "python",
   "nbconvert_exporter": "python",
   "pygments_lexer": "ipython3",
   "version": "3.9.6"
  }
 },
 "nbformat": 4,
 "nbformat_minor": 2
}
