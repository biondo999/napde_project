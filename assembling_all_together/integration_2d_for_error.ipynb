{
 "cells": [
  {
   "cell_type": "code",
   "execution_count": 1,
   "metadata": {},
   "outputs": [
    {
     "name": "stderr",
     "output_type": "stream",
     "text": [
      "2023-10-24 10:46:49.559801: I tensorflow/core/util/port.cc:110] oneDNN custom operations are on. You may see slightly different numerical results due to floating-point round-off errors from different computation orders. To turn them off, set the environment variable `TF_ENABLE_ONEDNN_OPTS=0`.\n",
      "2023-10-24 10:46:49.562189: I tensorflow/tsl/cuda/cudart_stub.cc:28] Could not find cuda drivers on your machine, GPU will not be used.\n",
      "2023-10-24 10:46:49.593936: I tensorflow/tsl/cuda/cudart_stub.cc:28] Could not find cuda drivers on your machine, GPU will not be used.\n",
      "2023-10-24 10:46:49.594603: I tensorflow/core/platform/cpu_feature_guard.cc:182] This TensorFlow binary is optimized to use available CPU instructions in performance-critical operations.\n",
      "To enable the following instructions: AVX2 AVX512F AVX512_VNNI FMA, in other operations, rebuild TensorFlow with the appropriate compiler flags.\n",
      "2023-10-24 10:46:50.222737: W tensorflow/compiler/tf2tensorrt/utils/py_utils.cc:38] TF-TRT Warning: Could not find TensorRT\n"
     ]
    }
   ],
   "source": [
    "from scipy.integrate import dblquad\n",
    "import tensorflow as tf\n",
    "import numpy as np\n",
    "tfk=tf.keras\n",
    "tfkl=tf.keras.layers\n"
   ]
  },
  {
   "cell_type": "code",
   "execution_count": 2,
   "metadata": {},
   "outputs": [],
   "source": [
    "f=lambda x,y: x*y"
   ]
  },
  {
   "cell_type": "code",
   "execution_count": 3,
   "metadata": {},
   "outputs": [
    {
     "data": {
      "text/plain": [
       "0"
      ]
     },
     "execution_count": 3,
     "metadata": {},
     "output_type": "execute_result"
    }
   ],
   "source": [
    "f(0,0)"
   ]
  },
  {
   "cell_type": "code",
   "execution_count": 4,
   "metadata": {},
   "outputs": [
    {
     "data": {
      "text/plain": [
       "(0.010416666666666668, 4.101620128472366e-16)"
      ]
     },
     "execution_count": 4,
     "metadata": {},
     "output_type": "execute_result"
    }
   ],
   "source": [
    "area = dblquad(f, 0, 0.5, lambda x: 0, lambda x: 1-2*x)\n",
    "area"
   ]
  },
  {
   "cell_type": "code",
   "execution_count": 5,
   "metadata": {},
   "outputs": [],
   "source": [
    "def net(x:float,y:float):\n",
    "    return x*y"
   ]
  },
  {
   "cell_type": "code",
   "execution_count": 6,
   "metadata": {},
   "outputs": [
    {
     "name": "stdout",
     "output_type": "stream",
     "text": [
      "(0.010416666666666668, 4.101620128472366e-16)\n"
     ]
    }
   ],
   "source": [
    "area=dblquad(lambda x,y: net(x,y), 0, 0.5, lambda x: 0, lambda x: 1-2*x)\n",
    "print(area)"
   ]
  },
  {
   "cell_type": "code",
   "execution_count": 7,
   "metadata": {},
   "outputs": [
    {
     "name": "stdout",
     "output_type": "stream",
     "text": [
      "(0.010416666666666668, 4.101620128472366e-16)\n"
     ]
    }
   ],
   "source": [
    "area=dblquad(net, 0, 0.5, lambda x: 0, lambda x: 1-2*x)\n",
    "print(area)"
   ]
  },
  {
   "cell_type": "code",
   "execution_count": 21,
   "metadata": {},
   "outputs": [
    {
     "name": "stdout",
     "output_type": "stream",
     "text": [
      "Model: \"model_3\"\n",
      "_________________________________________________________________\n",
      " Layer (type)                Output Shape              Param #   \n",
      "=================================================================\n",
      " Input (InputLayer)          [(None, 2)]               0         \n",
      "                                                                 \n",
      " dense_6 (Dense)             (None, 2)                 6         \n",
      "                                                                 \n",
      " dense_7 (Dense)             (None, 1)                 3         \n",
      "                                                                 \n",
      "=================================================================\n",
      "Total params: 9 (36.00 Byte)\n",
      "Trainable params: 9 (36.00 Byte)\n",
      "Non-trainable params: 0 (0.00 Byte)\n",
      "_________________________________________________________________\n"
     ]
    }
   ],
   "source": [
    "\n",
    "#net that takes as the one one we will use \n",
    "input_shape=(2,)\n",
    "seed=42\n",
    "input_layer = tfkl.Input(shape=input_shape, name='Input')\n",
    "x1 = tfkl.Dense(2, activation=tf.math.sin, kernel_initializer = tfk.initializers.GlorotUniform(seed),bias_initializer=tfk.initializers.GlorotUniform(seed))(input_layer)\n",
    "output_layer = tfkl.Dense(1, activation='linear', kernel_initializer = tfk.initializers.GlorotUniform(seed),bias_initializer=tfk.initializers.GlorotUniform(seed))(x1)\n",
    "\n",
    "model = tf.keras.Model(input_layer, output_layer)\n",
    "model.summary()"
   ]
  },
  {
   "cell_type": "code",
   "execution_count": 22,
   "metadata": {},
   "outputs": [
    {
     "name": "stdout",
     "output_type": "stream",
     "text": [
      "(2, 2)\n",
      "1/1 [==============================] - 0s 31ms/step\n",
      "\n",
      "model(input)\n",
      "<class 'tensorflow.python.framework.ops.EagerTensor'>\n",
      "tf.Tensor(\n",
      "[[-0.44101208]\n",
      " [-0.4341511 ]], shape=(2, 1), dtype=float32)\n",
      "\n",
      "model.predict(input)\n",
      "<class 'numpy.ndarray'>\n",
      "[[-0.44101208]\n",
      " [-0.4341511 ]]\n",
      "\n",
      "if i squeeze a tensor\n",
      "tf.Tensor([-0.44101208 -0.4341511 ], shape=(2,), dtype=float32)\n"
     ]
    }
   ],
   "source": [
    "x=tf.constant([[0.0,0.0],[1.0,1.0]])\n",
    "print(x.shape)\n",
    "\n",
    "#the input should be presented in batches so shape (2,) ->(1,2 ) if you have n points (n,2)\n",
    "\n",
    "\n",
    "#input (n,2) output (n,1) in our case \n",
    "\n",
    "\n",
    "out_tf=model(x)\n",
    "out_predict=model.predict(x)\n",
    "\n",
    "print()\n",
    "\n",
    "\n",
    "print('model(input)')\n",
    "print(type(out_tf))\n",
    "print(out_tf)\n",
    "\n",
    "print()\n",
    "\n",
    "print('model.predict(input)')\n",
    "print(type(out_predict))\n",
    "print(out_predict)\n",
    "\n",
    "\n",
    "print()\n",
    "\n",
    "print('if i squeeze a tensor')\n",
    "print(tf.squeeze(model(x)))"
   ]
  },
  {
   "cell_type": "code",
   "execution_count": 23,
   "metadata": {},
   "outputs": [],
   "source": [
    "def eval_net(x:float,y:float):\n",
    "    p=tf.constant([[x,y]])\n",
    "    return tf.squeeze(model(p))"
   ]
  },
  {
   "cell_type": "code",
   "execution_count": 24,
   "metadata": {},
   "outputs": [
    {
     "name": "stdout",
     "output_type": "stream",
     "text": [
      "(-0.09973668300717066, 9.29645908202773e-09)\n"
     ]
    }
   ],
   "source": [
    "area=dblquad(lambda x,y: eval_net(x,y), 0, 0.5, lambda x: 0, lambda x: 1-2*x)\n",
    "print(area)\n"
   ]
  },
  {
   "cell_type": "code",
   "execution_count": 25,
   "metadata": {},
   "outputs": [
    {
     "name": "stdout",
     "output_type": "stream",
     "text": [
      "[<tf.Variable 'dense_6/kernel:0' shape=(2, 2) dtype=float32, numpy=\n",
      "array([[-0.5329278 , -0.00387776],\n",
      "       [ 0.5277635 , -1.1752602 ]], dtype=float32)>, <tf.Variable 'dense_6/bias:0' shape=(2,) dtype=float32, numpy=array([-0.5329278 , -0.00387776], dtype=float32)>, <tf.Variable 'dense_7/kernel:0' shape=(2, 1) dtype=float32, numpy=\n",
      "array([[-0.61537194],\n",
      "       [-0.00447774]], dtype=float32)>, <tf.Variable 'dense_7/bias:0' shape=(1,) dtype=float32, numpy=array([-0.7536737], dtype=float32)>]\n"
     ]
    }
   ],
   "source": [
    "print(model.trainable_variables)"
   ]
  },
  {
   "cell_type": "code",
   "execution_count": 26,
   "metadata": {},
   "outputs": [
    {
     "data": {
      "text/plain": [
       "<tf.Tensor: shape=(), dtype=float32, numpy=-0.43415114>"
      ]
     },
     "execution_count": 26,
     "metadata": {},
     "output_type": "execute_result"
    }
   ],
   "source": [
    "def F(x,y):\n",
    "    return -0.61537194*tf.math.sin((-0.5329278*x)+(0.5277635*y)-0.5329278)  -0.00447774*tf.math.sin((-0.00387776*x)+(-1.1752602*y)-0.00387776) -0.7536737\n",
    "\n",
    "\n",
    "\n",
    "F(1.0,1.0)\n"
   ]
  },
  {
   "cell_type": "code",
   "execution_count": 27,
   "metadata": {},
   "outputs": [
    {
     "name": "stdout",
     "output_type": "stream",
     "text": [
      "(-0.09973668498360751, 1.0804009353264507e-08)\n"
     ]
    }
   ],
   "source": [
    "area=dblquad(F, 0, 0.5, lambda x: 0, lambda x: 1-2*x)\n",
    "print(area)"
   ]
  },
  {
   "cell_type": "code",
   "execution_count": null,
   "metadata": {},
   "outputs": [],
   "source": []
  },
  {
   "cell_type": "code",
   "execution_count": null,
   "metadata": {},
   "outputs": [],
   "source": []
  },
  {
   "cell_type": "code",
   "execution_count": null,
   "metadata": {},
   "outputs": [],
   "source": []
  },
  {
   "cell_type": "code",
   "execution_count": null,
   "metadata": {},
   "outputs": [],
   "source": []
  },
  {
   "cell_type": "code",
   "execution_count": 33,
   "metadata": {},
   "outputs": [
    {
     "name": "stdout",
     "output_type": "stream",
     "text": [
      "tf.Tensor([[ 0.28161228 -0.2768869 ]], shape=(1, 2), dtype=float32)\n"
     ]
    }
   ],
   "source": [
    "points=tf.constant([[1.0,1.0]])\n",
    "\n",
    "with tf.GradientTape() as tape:\n",
    "    tape.watch(points)\n",
    "    y=model(points)\n",
    "dy=tape.gradient(y,points)\n",
    "\n",
    "\n",
    "print(dy)\n",
    "\n",
    "\n",
    "\n",
    "points=tf.constant([[1.0,1.0]])\n",
    "\n",
    "with tf.GradientTape() as tape:\n",
    "    tape.watch(points)\n",
    "    y=model(points)\n",
    "dy=tape.gradient(y,points)\n",
    "\n",
    "\n",
    "print(dy)\n",
    "\n",
    "\n",
    "#if you eval the gradient on a set of points the grad will have size (number of points,2)"
   ]
  }
 ],
 "metadata": {
  "kernelspec": {
   "display_name": "base",
   "language": "python",
   "name": "python3"
  },
  "language_info": {
   "codemirror_mode": {
    "name": "ipython",
    "version": 3
   },
   "file_extension": ".py",
   "mimetype": "text/x-python",
   "name": "python",
   "nbconvert_exporter": "python",
   "pygments_lexer": "ipython3",
   "version": "3.9.6"
  }
 },
 "nbformat": 4,
 "nbformat_minor": 2
}
