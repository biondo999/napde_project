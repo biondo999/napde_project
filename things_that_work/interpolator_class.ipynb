{
 "cells": [
  {
   "cell_type": "code",
   "execution_count": 155,
   "metadata": {},
   "outputs": [],
   "source": [
    "from sympy import Matrix, Rational\n",
    "import matplotlib.pyplot as plt\n",
    "import numpy as np\n",
    "\n",
    "# TERMINOLOGY:\n",
    "# - nodes: always the fixed points upon which values are set\n",
    "# - points: variable coordinates typically used to interpolate on\n"
   ]
  },
  {
   "cell_type": "code",
   "execution_count": 156,
   "metadata": {},
   "outputs": [],
   "source": [
    "\n",
    "#decide the name \n",
    "#the values of the nodes and the points are not insances of the class,in this way you will only need to use the methods that interpolate  \n",
    "\n",
    "\n",
    "class basis:\n",
    "    def __init__(self, r: int, nodal_values: list = None):\n",
    "        self.r = r\n",
    "        self.powers= self.generate_powers(r)\n",
    "        self.powers_dx,self.powers_dy=self.generate_powers_der()\n",
    "        \n",
    "        self.nodes, self.n = self.generate_interp_nodes(r)\n",
    "        self.plot_nodes()\n",
    "\n",
    "\n",
    "        #matrices that rapresent the polynomials\n",
    "        self.M ,self.M_dx,self.M_dy= self.generate_matrices()\n",
    "\n",
    "\n",
    "\n",
    "    def plot_nodes(self):\n",
    "        \"\"\"\n",
    "        plot the nodes used for the basis on the ref triangle\n",
    "        \"\"\"\n",
    "        print(\"degree = \",self.r,\" , local dof = \",self.n)\n",
    "\n",
    "        print(self.nodes)\n",
    "\n",
    "        plt.figure()\n",
    "        plt.scatter(self.nodes[:, 0], self.nodes[:, 1])\n",
    "        plt.grid()\n",
    "        plt.show()\n",
    "\n",
    "    def generate_powers(self, r: int) -> list:\n",
    "        \"\"\"\n",
    "        r: int = degree\n",
    "        generates the powers of the polynomial in x and y up to order r \n",
    "        \"\"\"\n",
    "        return [(j, i) for i in range(0, r + 1) for j in range(0, r + 1) if i + j <= r]\n",
    "    \n",
    "    def generate_powers_der(self):\n",
    "        \"\"\"\n",
    "        generate  the correct powers for the derivatives and store it \n",
    "        \"\"\"\n",
    "        der_x=[]\n",
    "        der_y=[]\n",
    "\n",
    "        for (i,j) in self.powers:\n",
    "            if (i-1)>=0:\n",
    "                der_x.append(((i-1),j))\n",
    "            if (j-1)>=0:\n",
    "                der_y.append((i,(j-1)))\n",
    "\n",
    "        return der_x,der_y\n",
    "\n",
    "    def generate_interp_nodes(self, p):\n",
    "        \"\"\"\n",
    "        generates the nodes used for the basis functions \n",
    "        \"\"\"\n",
    "        n = (p + 1) * (p + 2) // 2\n",
    "        nodes = [\n",
    "            [Rational(j, p), Rational(i, p)]\n",
    "            for i in range(0, p + 1)\n",
    "            for j in range(0, p + 1)\n",
    "            if i + j <= p\n",
    "        ]\n",
    "        return np.array(nodes), n\n",
    "    \n",
    "\n",
    "\n",
    "    def print_polynomial(self, sol,pairs,i) -> None:\n",
    "        \"\"\"singol polynomial print\"\"\"\n",
    "\n",
    "        s='basis function number : '\n",
    "        print(\"\\033[1m\" + s + \"\\033[0m\",i+1)\n",
    "        print()\n",
    "\n",
    "        for ii,(i,j) in enumerate(pairs):\n",
    "            print(sol[ii],'x^',i,'y^',j,end=' ')\n",
    "        print()\n",
    "        print()\n",
    "        \n",
    "\n",
    "\n",
    "\n",
    "    def generate_coefficients(self, evaluation_matrix, verbose: bool = False):\n",
    "        coeff = []\n",
    "\n",
    "        for i in range(self.n):\n",
    "            b = [Rational(0) for j in range(self.n)]\n",
    "            b[i] = Rational(1)\n",
    "            b = Matrix(b)\n",
    "\n",
    "            res = evaluation_matrix.solve(b)\n",
    "            coeff.append(res)\n",
    "\n",
    "            if verbose:\n",
    "                self.print_polynomial(res,self.powers,i)\n",
    "\n",
    "        return coeff\n",
    "\n",
    "\n",
    "    #change this last two\n",
    "    def generate_matrices(self):\n",
    "\n",
    "        list=[]\n",
    "        for ii in range(self.n):\n",
    "            temp=[]\n",
    "            for jj,(i,j) in enumerate(self.powers):\n",
    "            # A[ii,jj]=((points[ii][0])**i )*((points[ii][1])**j)\n",
    "                temp.append(((self.nodes[ii][0])**i )*((self.nodes[ii][1])**j))\n",
    "            list.append(temp)\n",
    "\n",
    "        A = Matrix(list)\n",
    "\n",
    "\n",
    "        coeffs = self.generate_coefficients(A,False)\n",
    "\n",
    "        \n",
    "        coeffs_dx,coeffs_dy=self.generate_M_der(coeffs,False)\n",
    "\n",
    "        return np.reshape(np.array(coeffs, dtype=np.float64), (self.n, self.n)),np.reshape(np.array(coeffs_dx, dtype=np.float64), (self.n, len(self.powers_dx))),np.reshape(np.array(coeffs_dy, dtype=np.float64), (self.n, len(self.powers_dy)))\n",
    "    \n",
    "    \n",
    "    \n",
    "    def generate_M_der(self, M: Matrix,verbose):\n",
    "        coeff_dx=[]\n",
    "        coeff_dy=[]\n",
    "        for ii in range(self.n):\n",
    "            temp_x=[]\n",
    "            temp_y=[]\n",
    "            for jj,(i,j) in enumerate(self.powers):\n",
    "                if (i-1)>=0:\n",
    "                    temp_x.append(Rational(i,1)*M[ii][jj])\n",
    "                if (j-1)>=0:\n",
    "                    temp_y.append(Rational(j,1)*M[ii][jj])\n",
    "            if verbose:\n",
    "                print(\"dx\")\n",
    "                self.print_polynomial(temp_x,self.powers_dx,ii)\n",
    "                print(\"dy\")\n",
    "                self.print_polynomial(temp_y,self.powers_dy,ii)\n",
    "                print()\n",
    "\n",
    "            coeff_dx.append(temp_x)\n",
    "            coeff_dy.append(temp_y)\n",
    "        return coeff_dx,coeff_dy\n",
    "    \n",
    "\n",
    "\n",
    "\n",
    "\n",
    "    def eval(self,M,points,val,pairs):\n",
    "        \"\"\"\n",
    "        generic function that interpolates a set of 2d nodes that are fixed in generic points inside the ref triangle,\n",
    "        -M is the matrix with coeff of all the basis function in each row \n",
    "        -points is a np.array of size (n_points,2)\n",
    "        -val is a np array of size (n_nodes,1)\n",
    "\n",
    "        the output will be an col vecotr of size (n_points,1)\n",
    "          \n",
    "        \"\"\"\n",
    "        x=np.ones((np.shape(points)[0],len(pairs)),dtype=np.float64)\n",
    "\n",
    "        for ii,(i,j) in enumerate(pairs):\n",
    "            x[:,ii]=(points[:,0]**i)*(points[:,1]**j)\n",
    "        \n",
    "\n",
    "        res=x @ M.T @val\n",
    "\n",
    "        return res\n",
    "    \n",
    "\n",
    "\n",
    "        \n",
    "    def interpolate(self,points,val):\n",
    "        \"\"\" points where you want to intepolate,val are the values at the fixed nodes \"\"\"\n",
    "        return self.eval(self.M,points,val,self.powers)\n",
    "    \n",
    "    def interpolate_dx(self,points,val):\n",
    "        return self.eval(self.M_dx,points,val,self.powers_dx)\n",
    "    \n",
    "    def interpolate_dy(self,points,val):\n",
    "        return self.eval(self.M_dy,points,val,self.powers_dy)\n"
   ]
  },
  {
   "cell_type": "code",
   "execution_count": 157,
   "metadata": {},
   "outputs": [
    {
     "name": "stdout",
     "output_type": "stream",
     "text": [
      "degree =  1  , local dof =  3\n",
      "[[0 0]\n",
      " [1 0]\n",
      " [0 1]]\n"
     ]
    },
    {
     "data": {
      "image/png": "[encoded data removed]",
      "text/plain": [
       "<Figure size 640x480 with 1 Axes>"
      ]
     },
     "metadata": {},
     "output_type": "display_data"
    },
    {
     "data": {
      "text/plain": [
       "array([ 1., -1., -1.])"
      ]
     },
     "execution_count": 157,
     "metadata": {},
     "output_type": "execute_result"
    }
   ],
   "source": [
    "B=basis(1)\n",
    "B.M[0]"
   ]
  },
  {
   "cell_type": "code",
   "execution_count": 158,
   "metadata": {},
   "outputs": [
    {
     "name": "stdout",
     "output_type": "stream",
     "text": [
      "[(0, 0), (1, 0), (0, 1)]\n",
      "[[ 1. -1. -1.]\n",
      " [ 0.  1.  0.]\n",
      " [ 0.  0.  1.]]\n"
     ]
    }
   ],
   "source": [
    "print(B.powers)\n",
    "\n",
    "print(B.M)"
   ]
  },
  {
   "cell_type": "code",
   "execution_count": 159,
   "metadata": {},
   "outputs": [
    {
     "name": "stdout",
     "output_type": "stream",
     "text": [
      "[(0, 0)]\n",
      "[[-1.]\n",
      " [ 1.]\n",
      " [ 0.]]\n"
     ]
    }
   ],
   "source": [
    "print(B.powers_dx)\n",
    "print(B.M_dx)"
   ]
  },
  {
   "cell_type": "code",
   "execution_count": 160,
   "metadata": {},
   "outputs": [
    {
     "name": "stdout",
     "output_type": "stream",
     "text": [
      "[(0, 0)]\n",
      "[[-1.]\n",
      " [ 0.]\n",
      " [ 1.]]\n"
     ]
    }
   ],
   "source": [
    "print(B.powers_dy)\n",
    "print(B.M_dy)"
   ]
  },
  {
   "cell_type": "code",
   "execution_count": 161,
   "metadata": {},
   "outputs": [],
   "source": [
    "points=np.array([[0.0, 0.0],[1.0,0.0]],dtype=np.float64)"
   ]
  },
  {
   "cell_type": "code",
   "execution_count": 162,
   "metadata": {},
   "outputs": [
    {
     "name": "stdout",
     "output_type": "stream",
     "text": [
      "[[2.]\n",
      " [1.]\n",
      " [0.]]\n"
     ]
    }
   ],
   "source": [
    "val=np.array([[2.0],[1.0],[0.0]],dtype=np.float64)\n",
    "print(val)"
   ]
  },
  {
   "cell_type": "code",
   "execution_count": 163,
   "metadata": {},
   "outputs": [
    {
     "data": {
      "text/plain": [
       "array([[2.],\n",
       "       [1.]])"
      ]
     },
     "execution_count": 163,
     "metadata": {},
     "output_type": "execute_result"
    }
   ],
   "source": [
    "B.interpolate(points,val)"
   ]
  },
  {
   "cell_type": "code",
   "execution_count": 164,
   "metadata": {},
   "outputs": [
    {
     "name": "stdout",
     "output_type": "stream",
     "text": [
      "[[-1.]\n",
      " [-1.]]\n",
      "[[-2.]\n",
      " [-2.]]\n"
     ]
    }
   ],
   "source": [
    "print(B.interpolate_dx(points,val))\n",
    "\n",
    "print(B.interpolate_dy(points,val))"
   ]
  }
 ],
 "metadata": {
  "kernelspec": {
   "display_name": "base",
   "language": "python",
   "name": "python3"
  },
  "language_info": {
   "codemirror_mode": {
    "name": "ipython",
    "version": 3
   },
   "file_extension": ".py",
   "mimetype": "text/x-python",
   "name": "python",
   "nbconvert_exporter": "python",
   "pygments_lexer": "ipython3",
   "version": "3.9.6"
  }
 },
 "nbformat": 4,
 "nbformat_minor": 2
}
