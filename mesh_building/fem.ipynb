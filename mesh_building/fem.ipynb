{
 "cells": [
  {
   "cell_type": "code",
   "execution_count": 1,
   "metadata": {},
   "outputs": [],
   "source": [
    "from sympy import Matrix, Rational\n",
    "import matplotlib.pyplot as plt\n",
    "import numpy as np\n",
    "#implement from scratch the interpolator class\n"
   ]
  },
  {
   "cell_type": "code",
   "execution_count": 2,
   "metadata": {},
   "outputs": [
    {
     "name": "stdout",
     "output_type": "stream",
     "text": [
      "number of coeff =  6\n",
      "x =  0  y =  0\n",
      "x =  1/2  y =  0\n",
      "x =  1  y =  0\n",
      "x =  0  y =  1/2\n",
      "x =  1/2  y =  1/2\n",
      "x =  0  y =  1\n",
      "6\n"
     ]
    }
   ],
   "source": [
    "points=[]\n",
    "points_=[]\n",
    "p=2\n",
    "k=0\n",
    "n=(p+1)*(p+2)//2\n",
    "print(\"number of coeff = \",n)\n",
    "for i in range(0,p+1):\n",
    "    for j in range(0,p+1):\n",
    "        k=k+1\n",
    "        if ((Rational(j,p)+Rational(i,p))<=Rational(1,1)):\n",
    "            print('x = ',Rational(j,p),' y = ',Rational(i,p)) \n",
    "            p_=[Rational(j,p),Rational(i,p)]\n",
    "            points.append(p_)\n",
    "            points_.append([j/p,i/p])\n",
    "print(len(points_))"
   ]
  },
  {
   "cell_type": "code",
   "execution_count": 3,
   "metadata": {},
   "outputs": [
    {
     "name": "stdout",
     "output_type": "stream",
     "text": [
      "[[0.  0. ]\n",
      " [0.5 0. ]\n",
      " [1.  0. ]\n",
      " [0.  0.5]\n",
      " [0.5 0.5]\n",
      " [0.  1. ]]\n"
     ]
    }
   ],
   "source": [
    "points_=np.array(points_)\n",
    "print(points_)"
   ]
  },
  {
   "cell_type": "code",
   "execution_count": 4,
   "metadata": {},
   "outputs": [
    {
     "data": {
      "image/png": "[encoded data removed]",
      "text/plain": [
       "<Figure size 640x480 with 1 Axes>"
      ]
     },
     "metadata": {},
     "output_type": "display_data"
    }
   ],
   "source": [
    "plt.figure()\n",
    "plt.scatter(points_[:,0],points_[:,1])\n",
    "plt.grid()\n",
    "plt.show()"
   ]
  },
  {
   "cell_type": "code",
   "execution_count": 5,
   "metadata": {},
   "outputs": [],
   "source": [
    "def generate_pairs(r):\n",
    "    pairs = []\n",
    "    for i in range(0, r+1):\n",
    "        for j in range(0, r+1):\n",
    "            if  i + j <= r:\n",
    "                pairs.append((j, i))\n",
    "    return pairs"
   ]
  },
  {
   "cell_type": "code",
   "execution_count": 6,
   "metadata": {},
   "outputs": [],
   "source": [
    "def show_pol(r,sol):\n",
    "    for ii,(i,j) in enumerate(generate_pairs(r)):\n",
    "        print(sol[ii],'x^',i,'y^',j,end=' ')"
   ]
  },
  {
   "cell_type": "code",
   "execution_count": 7,
   "metadata": {},
   "outputs": [
    {
     "name": "stdout",
     "output_type": "stream",
     "text": [
      "[[1, 0, 0, 0, 0, 0], [1, 1/2, 1/4, 0, 0, 0], [1, 1, 1, 0, 0, 0], [1, 0, 0, 1/2, 0, 1/4], [1, 1/2, 1/4, 1/2, 1/4, 1/4], [1, 0, 0, 1, 0, 1]]\n"
     ]
    }
   ],
   "source": [
    "couples=generate_pairs(p)\n",
    "\n",
    "#b=np.zeros(shape=(n),dtype=np.float64)\n",
    "list=[]\n",
    "for ii in range(n):\n",
    "    temp=[]\n",
    "    for jj,(i,j) in enumerate(couples):\n",
    "       # A[ii,jj]=((points[ii][0])**i )*((points[ii][1])**j)\n",
    "        temp.append(((points[ii][0])**i )*((points[ii][1])**j))\n",
    "    list.append(temp)\n",
    "print(list)\n",
    "\n",
    "temp=[Rational(0,1) for i in range(n)]\n",
    "temp[0]=Rational(1,1)\n"
   ]
  },
  {
   "cell_type": "code",
   "execution_count": 8,
   "metadata": {},
   "outputs": [
    {
     "name": "stdout",
     "output_type": "stream",
     "text": [
      "Solution:\n",
      "\u001b[1mbasis function number : \u001b[0m 1\n",
      "1 x^ 0 y^ 0 -3 x^ 1 y^ 0 2 x^ 2 y^ 0 -3 x^ 0 y^ 1 4 x^ 1 y^ 1 2 x^ 0 y^ 2 \n",
      "\u001b[1mbasis function number : \u001b[0m 2\n",
      "0 x^ 0 y^ 0 4 x^ 1 y^ 0 -4 x^ 2 y^ 0 0 x^ 0 y^ 1 -4 x^ 1 y^ 1 0 x^ 0 y^ 2 \n",
      "\u001b[1mbasis function number : \u001b[0m 3\n",
      "0 x^ 0 y^ 0 -1 x^ 1 y^ 0 2 x^ 2 y^ 0 0 x^ 0 y^ 1 0 x^ 1 y^ 1 0 x^ 0 y^ 2 \n",
      "\u001b[1mbasis function number : \u001b[0m 4\n",
      "0 x^ 0 y^ 0 0 x^ 1 y^ 0 0 x^ 2 y^ 0 4 x^ 0 y^ 1 -4 x^ 1 y^ 1 -4 x^ 0 y^ 2 \n",
      "\u001b[1mbasis function number : \u001b[0m 5\n",
      "0 x^ 0 y^ 0 0 x^ 1 y^ 0 0 x^ 2 y^ 0 0 x^ 0 y^ 1 4 x^ 1 y^ 1 0 x^ 0 y^ 2 \n",
      "\u001b[1mbasis function number : \u001b[0m 6\n",
      "0 x^ 0 y^ 0 0 x^ 1 y^ 0 0 x^ 2 y^ 0 -1 x^ 0 y^ 1 0 x^ 1 y^ 1 2 x^ 0 y^ 2 \n"
     ]
    }
   ],
   "source": [
    "A = Matrix(list)\n",
    "b = Matrix(temp)\n",
    "\n",
    "\n",
    "coeff=[]\n",
    "# Print the solution\n",
    "print(\"Solution:\")\n",
    "for ii in range(n):\n",
    "    temp=[Rational(0,1) for i in range(n)]\n",
    "    temp[ii]=Rational(1,1)\n",
    "    b = Matrix(temp)\n",
    "\n",
    "    solution = A.solve(b)\n",
    "    s='basis function number : '\n",
    "    print(\"\\033[1m\" + s + \"\\033[0m\",ii+1)\n",
    "    show_pol(p,solution)\n",
    "    print()\n",
    "    coeff.append(solution)"
   ]
  },
  {
   "cell_type": "code",
   "execution_count": 18,
   "metadata": {},
   "outputs": [],
   "source": [
    "M=np.ones((n,n),dtype=np.float64)\n",
    "for i in range(n):\n",
    "    for j in range(n):\n",
    "        M[i,j]=float(coeff[i][j])"
   ]
  },
  {
   "cell_type": "code",
   "execution_count": 10,
   "metadata": {},
   "outputs": [
    {
     "name": "stdout",
     "output_type": "stream",
     "text": [
      "[[ 1. -3.  2. -3.  4.  2.]\n",
      " [ 0.  4. -4.  0. -4.  0.]\n",
      " [ 0. -1.  2.  0.  0.  0.]\n",
      " [ 0.  0.  0.  4. -4. -4.]\n",
      " [ 0.  0.  0.  0.  4.  0.]\n",
      " [ 0.  0.  0. -1.  0.  2.]]\n",
      "<class 'numpy.float64'>\n"
     ]
    }
   ],
   "source": [
    "print(M)\n",
    "print(type(M[0,0]))"
   ]
  },
  {
   "cell_type": "code",
   "execution_count": 11,
   "metadata": {},
   "outputs": [
    {
     "name": "stdout",
     "output_type": "stream",
     "text": [
      "[[1. 2. 3. 1. 1. 1.]]\n",
      "[[1.  ]\n",
      " [0.8 ]\n",
      " [0.64]\n",
      " [0.1 ]\n",
      " [0.08]\n",
      " [0.01]]\n",
      "[[2.28]]\n",
      "2.2800000000000002\n"
     ]
    }
   ],
   "source": [
    "\n",
    "#change this so that you can eval everything in one shot\n",
    "\n",
    "\n",
    "\n",
    "\n",
    "def eval(M,point,val):\n",
    "    x=np.ones((n,1),dtype=np.float64)\n",
    "    for ii,(i,j) in enumerate(generate_pairs(p)):\n",
    "        x[ii]=(point[0]**i)*(point[1]**j)\n",
    "    \n",
    "    print(x)\n",
    "\n",
    "    res=np.matmul(val,np.matmul(M,x))\n",
    "    print(res)\n",
    "\n",
    "    print(float(res))\n",
    "\n",
    "\n",
    "\n",
    "\n",
    "val=np.ones((1,n),dtype=np.float64)\n",
    "val[0,1]=2.0\n",
    "val[0,2]=3.0\n",
    "print(val)\n",
    "point=np.array([0.8, 0.1],dtype=np.float64)\n",
    "\n",
    "eval(M,point,val)"
   ]
  },
  {
   "cell_type": "code",
   "execution_count": 12,
   "metadata": {},
   "outputs": [
    {
     "name": "stdout",
     "output_type": "stream",
     "text": [
      "Interpolated values: [1.8 2.5 2. ]\n"
     ]
    }
   ],
   "source": [
    "import numpy as np\n",
    "from scipy.interpolate import LinearNDInterpolator\n",
    "\n",
    "# Define vertices of the reference triangle\n",
    "vertices = np.array([[0, 0], [1, 0], [0, 1]])\n",
    "\n",
    "# Values at the vertices of the triangle\n",
    "values = np.array([1, 2, 3])\n",
    "\n",
    "# Define points where you want to interpolate within the triangle\n",
    "interpolation_points = np.array([[0.2, 0.3], [0.5, 0.5], [0.8, 0.1]])\n",
    "\n",
    "# Create a LinearNDInterpolator object\n",
    "interpolator = LinearNDInterpolator(vertices, values)\n",
    "\n",
    "# Perform linear interpolation at specified points\n",
    "interpolated_values = interpolator(interpolation_points)\n",
    "\n",
    "print(\"Interpolated values:\", interpolated_values)\n"
   ]
  },
  {
   "cell_type": "code",
   "execution_count": null,
   "metadata": {},
   "outputs": [],
   "source": []
  },
  {
   "cell_type": "code",
   "execution_count": 13,
   "metadata": {},
   "outputs": [
    {
     "name": "stdout",
     "output_type": "stream",
     "text": [
      "[(0, 0), (1, 0), (2, 0), (0, 1), (1, 1), (0, 2)]\n",
      "([(0, 0), (1, 0), (0, 1)], [(0, 0), (1, 0), (0, 1)])\n"
     ]
    }
   ],
   "source": [
    "#derive\n",
    "r=p\n",
    "\n",
    "\n",
    "def generate_pairs_der(r):\n",
    "    der_x=[]\n",
    "    der_y=[]\n",
    "\n",
    "    for (i,j) in generate_pairs(r):\n",
    "        if (i-1)>=0:\n",
    "            der_x.append(((i-1),j))\n",
    "        if (j-1)>=0:\n",
    "            der_y.append((i,(j-1)))\n",
    "\n",
    "    return der_x,der_y\n",
    "\n",
    "\n",
    "print(generate_pairs(r))\n",
    "\n",
    "print(generate_pairs_der(r))\n"
   ]
  },
  {
   "cell_type": "code",
   "execution_count": 14,
   "metadata": {},
   "outputs": [],
   "source": [
    "def calculate_der(M,r):\n",
    "    coeff_dx=[]\n",
    "    coeff_dy=[]\n",
    "    for ii in range(n):\n",
    "        temp_x=[]\n",
    "        temp_y=[]\n",
    "        for jj,(i,j) in enumerate(generate_pairs(r)):\n",
    "            if (i-1)>=0:\n",
    "                temp_x.append(Rational(i,1)*coeff[ii][jj])\n",
    "            if (j-1)>=0:\n",
    "                temp_y.append(Rational(j,1)*coeff[ii][jj])\n",
    "        coeff_dx.append(temp_x)\n",
    "        coeff_dy.append(temp_y)\n",
    "    return coeff_dx,coeff_dy"
   ]
  },
  {
   "cell_type": "code",
   "execution_count": 15,
   "metadata": {},
   "outputs": [
    {
     "name": "stdout",
     "output_type": "stream",
     "text": [
      "[[-3, 4, 4], [4, -8, -4], [-1, 4, 0], [0, 0, -4], [0, 0, 4], [0, 0, 0]] [[-3, 4, 4], [0, -4, 0], [0, 0, 0], [4, -4, -8], [0, 4, 0], [-1, 0, 4]]\n"
     ]
    }
   ],
   "source": [
    "coeff_dx,coeff_dy=calculate_der(M,r)\n",
    "print(coeff_dx,coeff_dy)"
   ]
  }
 ],
 "metadata": {
  "kernelspec": {
   "display_name": "base",
   "language": "python",
   "name": "python3"
  },
  "language_info": {
   "codemirror_mode": {
    "name": "ipython",
    "version": 3
   },
   "file_extension": ".py",
   "mimetype": "text/x-python",
   "name": "python",
   "nbconvert_exporter": "python",
   "pygments_lexer": "ipython3",
   "version": "3.9.6"
  }
 },
 "nbformat": 4,
 "nbformat_minor": 2
}
