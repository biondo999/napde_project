{
 "cells": [
  {
   "cell_type": "code",
   "execution_count": 1,
   "metadata": {},
   "outputs": [],
   "source": [
    "import numpy as np"
   ]
  },
  {
   "cell_type": "code",
   "execution_count": 7,
   "metadata": {},
   "outputs": [],
   "source": [
    "def generate_pairs(r):\n",
    "    pairs = []\n",
    "    for i in range(0, r+1):\n",
    "        for j in range(0, r+1):\n",
    "            if  i + j <= r:\n",
    "                pairs.append((j, i))\n",
    "    return pairs"
   ]
  },
  {
   "cell_type": "code",
   "execution_count": 39,
   "metadata": {},
   "outputs": [
    {
     "name": "stdout",
     "output_type": "stream",
     "text": [
      "[(0, 0), (1, 0), (2, 0), (3, 0), (4, 0), (0, 1), (1, 1), (2, 1), (3, 1), (0, 2), (1, 2), (2, 2), (0, 3), (1, 3), (0, 4)]\n"
     ]
    }
   ],
   "source": [
    "print(generate_pairs(4))"
   ]
  },
  {
   "cell_type": "code",
   "execution_count": 40,
   "metadata": {},
   "outputs": [],
   "source": [
    "def eval(r):\n",
    "    for (i,j) in generate_pairs(r):\n",
    "        print('x^',i,'y^',j)\n",
    "\n",
    "\n"
   ]
  },
  {
   "cell_type": "code",
   "execution_count": 42,
   "metadata": {},
   "outputs": [
    {
     "name": "stdout",
     "output_type": "stream",
     "text": [
      "x^ 0 y^ 0\n",
      "x^ 1 y^ 0\n",
      "x^ 0 y^ 1\n"
     ]
    }
   ],
   "source": [
    "eval(1)"
   ]
  },
  {
   "cell_type": "code",
   "execution_count": 21,
   "metadata": {},
   "outputs": [],
   "source": [
    "def show_pol(r,sol):\n",
    "    for ii,(i,j) in enumerate(generate_pairs(r)):\n",
    "        print(sol[ii],'x^',i,'y^',j,end=' ')\n",
    "\n",
    "    "
   ]
  },
  {
   "cell_type": "code",
   "execution_count": 61,
   "metadata": {},
   "outputs": [
    {
     "name": "stdout",
     "output_type": "stream",
     "text": [
      "[ 1. -1. -1.]\n",
      "1.0 x^ 0 y^ 0 -1.0 x^ 1 y^ 0 -1.0 x^ 0 y^ 1 "
     ]
    }
   ],
   "source": [
    "\n",
    "points = [[0.0, 0.0], [1.0, 0.0], [0.0, 1.0]]\n",
    "\n",
    "\n",
    "\n",
    "def basis_coeff(number,r,points):\n",
    "    n=(r+1)*(r+2)//2\n",
    "    b=np.zeros(shape=(n),dtype=np.float64)\n",
    "    b[number]=1.0\n",
    "    A=np.ones(shape=(n,n),dtype=np.float64)\n",
    "\n",
    "    for ii in range(n):\n",
    "        couples=generate_pairs(r)\n",
    "        for jj,(i,j) in enumerate(couples):\n",
    "            A[ii,jj]=((points[ii][0])**i )*((points[ii][1])**j)\n",
    "\n",
    "    solution = np.linalg.solve(A, b)\n",
    "    return solution\n",
    "\n",
    "pol=basis_coeff(0,1,points)\n",
    "print(pol)\n",
    "show_pol(1,pol)\n",
    "\n"
   ]
  },
  {
   "cell_type": "code",
   "execution_count": 70,
   "metadata": {},
   "outputs": [
    {
     "name": "stdout",
     "output_type": "stream",
     "text": [
      "basis function number :  1\n",
      "1.0 x^ 0 y^ 0 -1.0 x^ 1 y^ 0 -1.0 x^ 0 y^ 1 \n",
      "basis function number :  2\n",
      "0.0 x^ 0 y^ 0 1.0 x^ 1 y^ 0 0.0 x^ 0 y^ 1 \n",
      "basis function number :  3\n",
      "0.0 x^ 0 y^ 0 0.0 x^ 1 y^ 0 1.0 x^ 0 y^ 1 \n"
     ]
    }
   ],
   "source": [
    "points = [[0.0, 0.0], [1.0, 0.0], [0.0, 1.0]]\n",
    "\n",
    "\n",
    "\n",
    "def basis_coeff(number,r,points):\n",
    "    n=(r+1)*(r+2)//2\n",
    "    #b=np.zeros(shape=(n),dtype=np.float64)\n",
    "    b=np.eye(n,dtype=np.float64)\n",
    "    A=np.ones(shape=(n,n),dtype=np.float64)\n",
    "\n",
    "    for ii in range(n):\n",
    "        couples=generate_pairs(r)\n",
    "        for jj,(i,j) in enumerate(couples):\n",
    "            A[ii,jj]=((points[ii][0])**i )*((points[ii][1])**j)\n",
    "\n",
    "    solution = np.linalg.solve(A, b).transpose()\n",
    "    return solution\n",
    "\n",
    "pol=basis_coeff(0,1,points)\n",
    "\n",
    "for ii,row in enumerate(pol):\n",
    "    print('basis function number : ',ii+1)\n",
    "    show_pol(1,row)\n",
    "    print()"
   ]
  },
  {
   "cell_type": "code",
   "execution_count": 99,
   "metadata": {},
   "outputs": [
    {
     "name": "stdout",
     "output_type": "stream",
     "text": [
      "\u001b[1mbasis function number : \u001b[0m 1\n",
      "1.0 x^ 0 y^ 0 -3.0 x^ 1 y^ 0 2.0 x^ 2 y^ 0 -3.0 x^ 0 y^ 1 4.0 x^ 1 y^ 1 2.0 x^ 0 y^ 2 \n",
      "\u001b[1mbasis function number : \u001b[0m 2\n",
      "0.0 x^ 0 y^ 0 -1.0 x^ 1 y^ 0 2.0 x^ 2 y^ 0 0.0 x^ 0 y^ 1 0.0 x^ 1 y^ 1 -0.0 x^ 0 y^ 2 \n",
      "\u001b[1mbasis function number : \u001b[0m 3\n",
      "0.0 x^ 0 y^ 0 0.0 x^ 1 y^ 0 -0.0 x^ 2 y^ 0 -1.0 x^ 0 y^ 1 0.0 x^ 1 y^ 1 2.0 x^ 0 y^ 2 \n",
      "\u001b[1mbasis function number : \u001b[0m 4\n",
      "0.0 x^ 0 y^ 0 4.0 x^ 1 y^ 0 -4.0 x^ 2 y^ 0 0.0 x^ 0 y^ 1 -4.0 x^ 1 y^ 1 -0.0 x^ 0 y^ 2 \n",
      "\u001b[1mbasis function number : \u001b[0m 5\n",
      "0.0 x^ 0 y^ 0 0.0 x^ 1 y^ 0 -0.0 x^ 2 y^ 0 0.0 x^ 0 y^ 1 4.0 x^ 1 y^ 1 -0.0 x^ 0 y^ 2 \n",
      "\u001b[1mbasis function number : \u001b[0m 6\n",
      "0.0 x^ 0 y^ 0 0.0 x^ 1 y^ 0 -0.0 x^ 2 y^ 0 4.0 x^ 0 y^ 1 -4.0 x^ 1 y^ 1 -4.0 x^ 0 y^ 2 \n"
     ]
    }
   ],
   "source": [
    "r=2\n",
    "\n",
    "\n",
    "points = [[0.0, 0.0], [1.0, 0.0], [0.0, 1.0],[0.5,0.0],[0.5,0.5],[0.0,0.5]]\n",
    "\n",
    "\n",
    "def basis_coeff(r,points):\n",
    "    n=(r+1)*(r+2)//2\n",
    "    #b=np.zeros(shape=(n),dtype=np.float64)\n",
    "    b=np.eye(n,dtype=np.float64)\n",
    "    A=np.ones(shape=(n,n),dtype=np.float64)\n",
    "\n",
    "    for ii in range(n):\n",
    "        couples=generate_pairs(r)\n",
    "        for jj,(i,j) in enumerate(couples):\n",
    "            A[ii,jj]=((points[ii][0])**i )*((points[ii][1])**j)\n",
    "\n",
    "    solution = np.linalg.solve(A, b).transpose()\n",
    "    return solution\n",
    "\n",
    "pol=basis_coeff(r,points)\n",
    "\n",
    "\n",
    "for ii,row in enumerate(pol):\n",
    "    s='basis function number : '\n",
    "    print(\"\\033[1m\" + s + \"\\033[0m\",ii+1)\n",
    "    show_pol(r,row)\n",
    "    print()\n"
   ]
  },
  {
   "cell_type": "code",
   "execution_count": null,
   "metadata": {},
   "outputs": [],
   "source": []
  },
  {
   "cell_type": "code",
   "execution_count": 102,
   "metadata": {},
   "outputs": [
    {
     "name": "stdout",
     "output_type": "stream",
     "text": [
      "\u001b[1mbasis function number : \u001b[0m 1\n",
      "1.0 x^ 0 y^ 0 -4.0 x^ 1 y^ 0 3.0 x^ 2 y^ 0 -1.0000000000000002 x^ 0 y^ 1 3.0000000000000004 x^ 1 y^ 1 2.498001805406602e-16 x^ 0 y^ 2 \n",
      "\u001b[1mbasis function number : \u001b[0m 2\n",
      "0.0 x^ 0 y^ 0 -0.49999999999999956 x^ 1 y^ 0 1.4999999999999996 x^ 2 y^ 0 1.5 x^ 0 y^ 1 -3.0 x^ 1 y^ 1 -1.5 x^ 0 y^ 2 \n",
      "\u001b[1mbasis function number : \u001b[0m 3\n",
      "0.0 x^ 0 y^ 0 0.0 x^ 1 y^ 0 -0.0 x^ 2 y^ 0 -0.5 x^ 0 y^ 1 -0.0 x^ 1 y^ 1 1.5 x^ 0 y^ 2 \n",
      "\u001b[1mbasis function number : \u001b[0m 4\n",
      "0.0 x^ 0 y^ 0 7.494005416219807e-16 x^ 1 y^ 0 -7.494005416219807e-16 x^ 2 y^ 0 9.0 x^ 0 y^ 1 -8.999999999999998 x^ 1 y^ 1 -9.0 x^ 0 y^ 2 \n",
      "\u001b[1mbasis function number : \u001b[0m 5\n",
      "0.0 x^ 0 y^ 0 4.5 x^ 1 y^ 0 -4.5 x^ 2 y^ 0 -4.5 x^ 0 y^ 1 -4.996003610813204e-16 x^ 1 y^ 1 4.5 x^ 0 y^ 2 \n",
      "\u001b[1mbasis function number : \u001b[0m 6\n",
      "0.0 x^ 0 y^ 0 -3.7470027081099033e-16 x^ 1 y^ 0 3.7470027081099033e-16 x^ 2 y^ 0 -4.5 x^ 0 y^ 1 9.0 x^ 1 y^ 1 4.5 x^ 0 y^ 2 \n"
     ]
    }
   ],
   "source": [
    "r=2\n",
    "points = [[0.0, 0.0], [1.0, 0.0], [0.0, 1.0],[1/3,1/3],[1/3,0.0],[2/3,1/3],[0.0,2/3],[2/3,0.0],[1/3,2/3],[0.0,1/3]]\n",
    "\n",
    "\n",
    "def basis_coeff(r,points):\n",
    "    n=(r+1)*(r+2)//2\n",
    "    #b=np.zeros(shape=(n),dtype=np.float64)\n",
    "    b=np.eye(n,dtype=np.float64)\n",
    "    A=np.ones(shape=(n,n),dtype=np.float64)\n",
    "\n",
    "    for ii in range(n):\n",
    "        couples=generate_pairs(r)\n",
    "        for jj,(i,j) in enumerate(couples):\n",
    "            A[ii,jj]=((points[ii][0])**i )*((points[ii][1])**j)\n",
    "\n",
    "    solution = np.linalg.solve(A, b).transpose()\n",
    "    return solution\n",
    "\n",
    "pol=basis_coeff(r,points)\n",
    "\n",
    "\n",
    "for ii,row in enumerate(pol):\n",
    "    s='basis function number : '\n",
    "    print(\"\\033[1m\" + s + \"\\033[0m\",ii+1)\n",
    "    show_pol(r,row)\n",
    "    print()"
   ]
  },
  {
   "cell_type": "code",
   "execution_count": 96,
   "metadata": {},
   "outputs": [
    {
     "name": "stdout",
     "output_type": "stream",
     "text": [
      "edge [array([0.75, 0.  ]), array([0.5, 0. ]), array([0.33333333, 0.75      ]), array([0.66666667, 0.5       ]), array([0.        , 0.33333333]), array([0.        , 0.66666667])]\n",
      "FEM Points for order 3 : [[0.         0.        ]\n",
      " [1.         0.        ]\n",
      " [0.         1.        ]\n",
      " [0.75       0.        ]\n",
      " [0.5        0.        ]\n",
      " [0.33333333 0.75      ]\n",
      " [0.66666667 0.5       ]\n",
      " [0.         0.33333333]\n",
      " [0.         0.66666667]\n",
      " [0.33333333 0.33333333]\n",
      " [0.33333333 0.66666667]\n",
      " [0.66666667 0.33333333]]\n"
     ]
    }
   ],
   "source": [
    "import numpy as np\n",
    "\n",
    "def generate_fem_points(r):\n",
    "    # Calculate the total number of nodes\n",
    "    num_nodes = (r + 1) * (r + 2) // 2\n",
    "    \n",
    "    # Vertices of the reference triangle\n",
    "    vertices = np.array([[0, 0], [1, 0], [0, 1]])\n",
    "    \n",
    "    # Edge midpoints\n",
    "    edge_midpoints = []\n",
    "    for i in range(r):\n",
    "        for j in range(1, r):\n",
    "            edge_midpoints.append((j / (r )) * vertices[i] + ((r + 1 - j) / (r + 1)) * vertices[(i + 1) % 3])\n",
    "\n",
    "    print('edge',edge_midpoints)\n",
    "\n",
    "    # Interior points\n",
    "    interior_points = []\n",
    "    for i in range(1, r):\n",
    "        for j in range(1, r - i + 1):\n",
    "            interior_points.append(((r - i - j) / r) * vertices[0] + (i / r) * vertices[1] + (j / r) * vertices[2])\n",
    "    \n",
    "    # Combine all points\n",
    "    fem_points = np.vstack([vertices] + edge_midpoints + interior_points)\n",
    "    \n",
    "    return fem_points\n",
    "\n",
    "# Example usage with r = 3\n",
    "r = 3\n",
    "fem_points = generate_fem_points(r)\n",
    "print(\"FEM Points for order\", r, \":\", fem_points)\n",
    "\n",
    "\n",
    "\n"
   ]
  },
  {
   "cell_type": "code",
   "execution_count": 15,
   "metadata": {},
   "outputs": [
    {
     "name": "stdout",
     "output_type": "stream",
     "text": [
      "[[1, 0, 0, 0, 0, 0], [1, 1, 1, 0, 0, 0], [1, 0, 0, 1, 0, 1], [1, 1/2, 1/4, 0, 0, 0], [1, 1/2, 1/4, 1/2, 1/4, 1/4], [1, 0, 0, 1/2, 0, 1/4]]\n",
      "[0, 0, 0, 0, 0, 0]\n",
      "[1, 0, 0, 0, 0, 0]\n"
     ]
    }
   ],
   "source": [
    "from sympy import Matrix, Rational\n",
    "\n",
    "\n",
    "\n",
    "points = [[Rational(0, 1), Rational(0, 1)], [Rational(1, 1), Rational(0, 1)], [Rational(0, 1), Rational(1, 1)],[Rational(1, 2),Rational(0, 1)],[Rational(1, 2),Rational(1, 2)],[Rational(0, 1),Rational(1, 2)]]\n",
    "\n",
    "r=2\n",
    "n=(r+1)*(r+2)//2\n",
    "couples=generate_pairs(r)\n",
    "\n",
    "#b=np.zeros(shape=(n),dtype=np.float64)\n",
    "list=[]\n",
    "for ii in range(n):\n",
    "    temp=[]\n",
    "    for jj,(i,j) in enumerate(couples):\n",
    "       # A[ii,jj]=((points[ii][0])**i )*((points[ii][1])**j)\n",
    "        temp.append(((points[ii][0])**i )*((points[ii][1])**j))\n",
    "    list.append(temp)\n",
    "print(list)\n",
    "\n",
    "temp=[Rational(0,1) for i in range(n)]\n",
    "print(temp)\n",
    "temp[0]=Rational(1,1)\n",
    "print(temp)"
   ]
  },
  {
   "cell_type": "code",
   "execution_count": 26,
   "metadata": {},
   "outputs": [
    {
     "name": "stdout",
     "output_type": "stream",
     "text": [
      "Solution:\n",
      "\u001b[1mbasis function number : \u001b[0m 1\n",
      "1 x^ 0 y^ 0 -3 x^ 1 y^ 0 2 x^ 2 y^ 0 -3 x^ 0 y^ 1 4 x^ 1 y^ 1 2 x^ 0 y^ 2 \n",
      "\u001b[1mbasis function number : \u001b[0m 2\n",
      "0 x^ 0 y^ 0 -1 x^ 1 y^ 0 2 x^ 2 y^ 0 0 x^ 0 y^ 1 0 x^ 1 y^ 1 0 x^ 0 y^ 2 \n",
      "\u001b[1mbasis function number : \u001b[0m 3\n",
      "0 x^ 0 y^ 0 0 x^ 1 y^ 0 0 x^ 2 y^ 0 -1 x^ 0 y^ 1 0 x^ 1 y^ 1 2 x^ 0 y^ 2 \n",
      "\u001b[1mbasis function number : \u001b[0m 4\n",
      "0 x^ 0 y^ 0 4 x^ 1 y^ 0 -4 x^ 2 y^ 0 0 x^ 0 y^ 1 -4 x^ 1 y^ 1 0 x^ 0 y^ 2 \n",
      "\u001b[1mbasis function number : \u001b[0m 5\n",
      "0 x^ 0 y^ 0 0 x^ 1 y^ 0 0 x^ 2 y^ 0 0 x^ 0 y^ 1 4 x^ 1 y^ 1 0 x^ 0 y^ 2 \n",
      "\u001b[1mbasis function number : \u001b[0m 6\n",
      "0 x^ 0 y^ 0 0 x^ 1 y^ 0 0 x^ 2 y^ 0 4 x^ 0 y^ 1 -4 x^ 1 y^ 1 -4 x^ 0 y^ 2 \n"
     ]
    }
   ],
   "source": [
    "# Define the coefficient matrix A and the constant vector b using fractions\n",
    "A = Matrix(list)\n",
    "b = Matrix(temp)\n",
    "\n",
    "# Solve the system of equations\n",
    "solution = A.solve(b)\n",
    "\n",
    "\n",
    "coeff=[]\n",
    "# Print the solution\n",
    "print(\"Solution:\")\n",
    "for ii in range(n):\n",
    "    temp=[Rational(0,1) for i in range(n)]\n",
    "    temp[ii]=Rational(1,1)\n",
    "    b = Matrix(temp)\n",
    "\n",
    "    solution = A.solve(b)\n",
    "    s='basis function number : '\n",
    "    print(\"\\033[1m\" + s + \"\\033[0m\",ii+1)\n",
    "    show_pol(r,solution)\n",
    "    print()\n",
    "    coeff.append(solution)\n"
   ]
  },
  {
   "cell_type": "code",
   "execution_count": 5,
   "metadata": {},
   "outputs": [
    {
     "name": "stdout",
     "output_type": "stream",
     "text": [
      "[[0.         0.        ]\n",
      " [1.         0.        ]\n",
      " [0.         1.        ]\n",
      " [0.33333333 0.33333333]]\n"
     ]
    },
    {
     "ename": "QhullError",
     "evalue": "QH6214 qhull input error: not enough points(1) to construct initial simplex (need 4)\n\nWhile executing:  | qhull v Qz Qbb Qc\nOptions selected for Qhull 2019.1.r 2019/06/21:\n  run-id 1019848331  voronoi  Qz-infinity-point  Qbbound-last  Qcoplanar-keep\n  _pre-merge  _zero-centrum  Qinterior-keep  _maxoutside  0\n",
     "output_type": "error",
     "traceback": [
      "\u001b[0;31m---------------------------------------------------------------------------\u001b[0m",
      "\u001b[0;31mQhullError\u001b[0m                                Traceback (most recent call last)",
      "\u001b[1;32m/home/mariano/Python/napde_project/mesh_building/fem_interpolation.ipynb Cell 15\u001b[0m line \u001b[0;36m2\n\u001b[1;32m     <a href='vscode-notebook-cell:/home/mariano/Python/napde_project/mesh_building/fem_interpolation.ipynb#X21sZmlsZQ%3D%3D?line=25'>26</a>\u001b[0m num_iterations \u001b[39m=\u001b[39m \u001b[39m100\u001b[39m\n\u001b[1;32m     <a href='vscode-notebook-cell:/home/mariano/Python/napde_project/mesh_building/fem_interpolation.ipynb#X21sZmlsZQ%3D%3D?line=26'>27</a>\u001b[0m \u001b[39mfor\u001b[39;00m i \u001b[39min\u001b[39;00m \u001b[39mrange\u001b[39m(num_iterations):\n\u001b[1;32m     <a href='vscode-notebook-cell:/home/mariano/Python/napde_project/mesh_building/fem_interpolation.ipynb#X21sZmlsZQ%3D%3D?line=27'>28</a>\u001b[0m     \u001b[39m# Compute Voronoi diagram\u001b[39;00m\n\u001b[0;32m---> <a href='vscode-notebook-cell:/home/mariano/Python/napde_project/mesh_building/fem_interpolation.ipynb#X21sZmlsZQ%3D%3D?line=28'>29</a>\u001b[0m     vor \u001b[39m=\u001b[39m Voronoi(points)\n\u001b[1;32m     <a href='vscode-notebook-cell:/home/mariano/Python/napde_project/mesh_building/fem_interpolation.ipynb#X21sZmlsZQ%3D%3D?line=30'>31</a>\u001b[0m     \u001b[39m# Compute centroids of Voronoi cells\u001b[39;00m\n\u001b[1;32m     <a href='vscode-notebook-cell:/home/mariano/Python/napde_project/mesh_building/fem_interpolation.ipynb#X21sZmlsZQ%3D%3D?line=31'>32</a>\u001b[0m     centroids \u001b[39m=\u001b[39m []\n",
      "File \u001b[0;32m_qhull.pyx:2617\u001b[0m, in \u001b[0;36mscipy.spatial._qhull.Voronoi.__init__\u001b[0;34m()\u001b[0m\n",
      "File \u001b[0;32m_qhull.pyx:353\u001b[0m, in \u001b[0;36mscipy.spatial._qhull._Qhull.__init__\u001b[0;34m()\u001b[0m\n",
      "\u001b[0;31mQhullError\u001b[0m: QH6214 qhull input error: not enough points(1) to construct initial simplex (need 4)\n\nWhile executing:  | qhull v Qz Qbb Qc\nOptions selected for Qhull 2019.1.r 2019/06/21:\n  run-id 1019848331  voronoi  Qz-infinity-point  Qbbound-last  Qcoplanar-keep\n  _pre-merge  _zero-centrum  Qinterior-keep  _maxoutside  0\n"
     ]
    }
   ],
   "source": [
    "import numpy as np\n",
    "from scipy.spatial import Voronoi, voronoi_plot_2d\n",
    "import matplotlib.pyplot as plt\n",
    "\n",
    "# Number of nodes\n",
    "num_nodes = 10\n",
    "\n",
    "\n",
    "points=np.array([[0, 0], [1, 0], [0, 1],[1/3,1/3]])\n",
    "\n",
    "print(points)\n",
    "# Perform CVT iterations\n",
    "num_iterations = 100\n",
    "for i in range(num_iterations):\n",
    "    # Compute Voronoi diagram\n",
    "    vor = Voronoi(points)\n",
    "\n",
    "    # Compute centroids of Voronoi cells\n",
    "    centroids = []\n",
    "    for region in vor.regions:\n",
    "        if len(region) > 0 and -1 not in region:\n",
    "            polygon_points = vor.vertices[region]\n",
    "            centroid = np.mean(polygon_points, axis=0)\n",
    "            centroids.append(centroid)\n",
    "    centroids = np.array(centroids)\n",
    "\n",
    "    # Move points toward centroids\n",
    "    points = centroids\n",
    "\n",
    "# Plot the Voronoi diagram with optimized nodes\n",
    "vor = Voronoi(points)\n",
    "fig, ax = plt.subplots()\n",
    "voronoi_plot_2d(vor, ax=ax)\n",
    "plt.xlim(-0.1, 1.1)\n",
    "plt.ylim(-0.1, 1.1)\n",
    "plt.show()\n"
   ]
  },
  {
   "cell_type": "code",
   "execution_count": 11,
   "metadata": {},
   "outputs": [
    {
     "name": "stdout",
     "output_type": "stream",
     "text": [
      "[[0.34417408 0.15155153]\n",
      " [0.64801539 0.0668466 ]\n",
      " [0.95228339 0.02498378]\n",
      " [0.7963778  0.15104483]\n",
      " [0.00632619 0.89916968]\n",
      " [0.30033914 0.64046256]\n",
      " [0.64864846 0.02308415]\n",
      " [0.40255779 0.24920011]\n",
      " [0.24677915 0.53036072]\n",
      " [0.02898086 0.15554479]]\n"
     ]
    },
    {
     "ename": "QhullError",
     "evalue": "QH6214 qhull input error: not enough points(1) to construct initial simplex (need 4)\n\nWhile executing:  | qhull v Qz Qbb Qc\nOptions selected for Qhull 2019.1.r 2019/06/21:\n  run-id 1024184537  voronoi  Qz-infinity-point  Qbbound-last  Qcoplanar-keep\n  _pre-merge  _zero-centrum  Qinterior-keep  _maxoutside  0\n",
     "output_type": "error",
     "traceback": [
      "\u001b[0;31m---------------------------------------------------------------------------\u001b[0m",
      "\u001b[0;31mQhullError\u001b[0m                                Traceback (most recent call last)",
      "\u001b[1;32m/home/mariano/Python/napde_project/mesh_building/fem_interpolation.ipynb Cell 16\u001b[0m line \u001b[0;36m1\n\u001b[1;32m     <a href='vscode-notebook-cell:/home/mariano/Python/napde_project/mesh_building/fem_interpolation.ipynb#X23sZmlsZQ%3D%3D?line=13'>14</a>\u001b[0m \u001b[39mprint\u001b[39m(points)\n\u001b[1;32m     <a href='vscode-notebook-cell:/home/mariano/Python/napde_project/mesh_building/fem_interpolation.ipynb#X23sZmlsZQ%3D%3D?line=14'>15</a>\u001b[0m \u001b[39mfor\u001b[39;00m i \u001b[39min\u001b[39;00m \u001b[39mrange\u001b[39m(num_iterations):\n\u001b[1;32m     <a href='vscode-notebook-cell:/home/mariano/Python/napde_project/mesh_building/fem_interpolation.ipynb#X23sZmlsZQ%3D%3D?line=15'>16</a>\u001b[0m     \u001b[39m# Compute Voronoi diagram\u001b[39;00m\n\u001b[0;32m---> <a href='vscode-notebook-cell:/home/mariano/Python/napde_project/mesh_building/fem_interpolation.ipynb#X23sZmlsZQ%3D%3D?line=16'>17</a>\u001b[0m     vor \u001b[39m=\u001b[39m Voronoi(points)\n\u001b[1;32m     <a href='vscode-notebook-cell:/home/mariano/Python/napde_project/mesh_building/fem_interpolation.ipynb#X23sZmlsZQ%3D%3D?line=18'>19</a>\u001b[0m     \u001b[39m# Compute centroids of Voronoi cells\u001b[39;00m\n\u001b[1;32m     <a href='vscode-notebook-cell:/home/mariano/Python/napde_project/mesh_building/fem_interpolation.ipynb#X23sZmlsZQ%3D%3D?line=19'>20</a>\u001b[0m     centroids \u001b[39m=\u001b[39m []\n",
      "File \u001b[0;32m_qhull.pyx:2617\u001b[0m, in \u001b[0;36mscipy.spatial._qhull.Voronoi.__init__\u001b[0;34m()\u001b[0m\n",
      "File \u001b[0;32m_qhull.pyx:353\u001b[0m, in \u001b[0;36mscipy.spatial._qhull._Qhull.__init__\u001b[0;34m()\u001b[0m\n",
      "\u001b[0;31mQhullError\u001b[0m: QH6214 qhull input error: not enough points(1) to construct initial simplex (need 4)\n\nWhile executing:  | qhull v Qz Qbb Qc\nOptions selected for Qhull 2019.1.r 2019/06/21:\n  run-id 1024184537  voronoi  Qz-infinity-point  Qbbound-last  Qcoplanar-keep\n  _pre-merge  _zero-centrum  Qinterior-keep  _maxoutside  0\n"
     ]
    }
   ],
   "source": [
    "import numpy as np\n",
    "from scipy.spatial import Voronoi, voronoi_plot_2d\n",
    "import matplotlib.pyplot as plt\n",
    "\n",
    "# Number of nodes\n",
    "num_nodes = 10\n",
    "\n",
    "# Generate random initial points within the unit triangle\n",
    "points = np.random.rand(num_nodes, 2)\n",
    "points[:, 1] = points[:, 1] * (1 - points[:, 0])\n",
    "\n",
    "# Perform CVT iterations\n",
    "num_iterations = 100\n",
    "print(points)\n",
    "for i in range(num_iterations):\n",
    "    # Compute Voronoi diagram\n",
    "    vor = Voronoi(points)\n",
    "\n",
    "    # Compute centroids of Voronoi cells\n",
    "    centroids = []\n",
    "    for region in vor.regions:\n",
    "        if len(region) > 0 and -1 not in region:\n",
    "            polygon_points = vor.vertices[region]\n",
    "            centroid = np.mean(polygon_points, axis=0)\n",
    "            centroids.append(centroid)\n",
    "    centroids = np.array(centroids)\n",
    "\n",
    "    # Move points toward centroids\n",
    "    points = centroids\n",
    "\n",
    "# Plot the Voronoi diagram with optimized nodes\n",
    "vor = Voronoi(points)\n",
    "fig, ax = plt.subplots()\n",
    "voronoi_plot_2d(vor, ax=ax)\n",
    "plt.plot([0, 1, 0], [0, 0, 1], 'ro')  # Plot triangle vertices\n",
    "plt.plot(points[:, 0], points[:, 1], 'bo')  # Plot optimized nodes\n",
    "plt.xlim(-0.1, 1.1)\n",
    "plt.ylim(-0.1, 1.1)\n",
    "plt.show()\n"
   ]
  },
  {
   "cell_type": "code",
   "execution_count": 12,
   "metadata": {},
   "outputs": [
    {
     "ename": "SyntaxError",
     "evalue": "unexpected EOF while parsing (3120996169.py, line 36)",
     "output_type": "error",
     "traceback": [
      "\u001b[0;36m  Cell \u001b[0;32mIn[12], line 36\u001b[0;36m\u001b[0m\n\u001b[0;31m    plt.ylim(-\u001b[0m\n\u001b[0m              ^\u001b[0m\n\u001b[0;31mSyntaxError\u001b[0m\u001b[0;31m:\u001b[0m unexpected EOF while parsing\n"
     ]
    }
   ],
   "source": []
  },
  {
   "cell_type": "code",
   "execution_count": 14,
   "metadata": {},
   "outputs": [
    {
     "ename": "IndexError",
     "evalue": "tuple index out of range",
     "output_type": "error",
     "traceback": [
      "\u001b[0;31m---------------------------------------------------------------------------\u001b[0m",
      "\u001b[0;31mIndexError\u001b[0m                                Traceback (most recent call last)",
      "\u001b[1;32m/home/mariano/Python/napde_project/mesh_building/fem_interpolation.ipynb Cell 18\u001b[0m line \u001b[0;36m1\n\u001b[1;32m     <a href='vscode-notebook-cell:/home/mariano/Python/napde_project/mesh_building/fem_interpolation.ipynb#X26sZmlsZQ%3D%3D?line=11'>12</a>\u001b[0m num_iterations \u001b[39m=\u001b[39m \u001b[39m100\u001b[39m\n\u001b[1;32m     <a href='vscode-notebook-cell:/home/mariano/Python/napde_project/mesh_building/fem_interpolation.ipynb#X26sZmlsZQ%3D%3D?line=12'>13</a>\u001b[0m \u001b[39mfor\u001b[39;00m i \u001b[39min\u001b[39;00m \u001b[39mrange\u001b[39m(num_iterations):\n\u001b[1;32m     <a href='vscode-notebook-cell:/home/mariano/Python/napde_project/mesh_building/fem_interpolation.ipynb#X26sZmlsZQ%3D%3D?line=13'>14</a>\u001b[0m     \u001b[39m# Compute Voronoi diagram\u001b[39;00m\n\u001b[0;32m---> <a href='vscode-notebook-cell:/home/mariano/Python/napde_project/mesh_building/fem_interpolation.ipynb#X26sZmlsZQ%3D%3D?line=14'>15</a>\u001b[0m     vor \u001b[39m=\u001b[39m Voronoi(points)\n\u001b[1;32m     <a href='vscode-notebook-cell:/home/mariano/Python/napde_project/mesh_building/fem_interpolation.ipynb#X26sZmlsZQ%3D%3D?line=16'>17</a>\u001b[0m     \u001b[39m# Filter valid regions with at least three non-collinear points\u001b[39;00m\n\u001b[1;32m     <a href='vscode-notebook-cell:/home/mariano/Python/napde_project/mesh_building/fem_interpolation.ipynb#X26sZmlsZQ%3D%3D?line=17'>18</a>\u001b[0m     valid_regions \u001b[39m=\u001b[39m [region \u001b[39mfor\u001b[39;00m region \u001b[39min\u001b[39;00m vor\u001b[39m.\u001b[39mregions \u001b[39mif\u001b[39;00m \u001b[39mlen\u001b[39m(region) \u001b[39m>\u001b[39m\u001b[39m=\u001b[39m \u001b[39m3\u001b[39m \u001b[39mand\u001b[39;00m \u001b[39m-\u001b[39m\u001b[39m1\u001b[39m \u001b[39mnot\u001b[39;00m \u001b[39min\u001b[39;00m region]\n",
      "File \u001b[0;32m_qhull.pyx:2611\u001b[0m, in \u001b[0;36mscipy.spatial._qhull.Voronoi.__init__\u001b[0;34m()\u001b[0m\n",
      "\u001b[0;31mIndexError\u001b[0m: tuple index out of range"
     ]
    }
   ],
   "source": [
    "import numpy as np\n",
    "from scipy.spatial import Voronoi, voronoi_plot_2d\n",
    "import matplotlib.pyplot as plt\n",
    "\n",
    "# Number of nodes\n",
    "num_nodes = 10\n",
    "\n",
    "# Generate initial points forming a non-degenerate simplex\n",
    "points = np.array([[0.1, 0.1], [0.8, 0.1], [0.1, 0.8], [0.45, 0.45]])\n",
    "\n",
    "# Perform CVT iterations\n",
    "num_iterations = 100\n",
    "for i in range(num_iterations):\n",
    "    # Compute Voronoi diagram\n",
    "    vor = Voronoi(points)\n",
    "\n",
    "    # Filter valid regions with at least three non-collinear points\n",
    "    valid_regions = [region for region in vor.regions if len(region) >= 3 and -1 not in region]\n",
    "\n",
    "    # Compute centroids of valid Voronoi cells\n",
    "    centroids = []\n",
    "    for region in valid_regions:\n",
    "        polygon_points = vor.vertices[region]\n",
    "        centroid = np.mean(polygon_points, axis=0)\n",
    "        centroids.append(centroid)\n",
    "    centroids = np.array(centroids)\n",
    "\n",
    "    # Move points toward centroids\n",
    "    points = centroids\n",
    "\n",
    "# Plot the Voronoi diagram with optimized nodes\n",
    "vor = Voronoi(points)\n",
    "fig, ax = plt.subplots()\n",
    "voronoi_plot_2d(vor, ax=ax)\n",
    "plt.plot([0, 1, 0], [0, 0, 1], 'ro')  # Plot triangle vertices\n",
    "plt.plot(points[:, 0], points[:, 1], 'bo')  # Plot optimized nodes\n",
    "plt.xlim(-0.1, 1.1)\n",
    "plt.ylim(-0.1, 1.1)\n",
    "plt.show\n"
   ]
  },
  {
   "cell_type": "code",
   "execution_count": 27,
   "metadata": {},
   "outputs": [
    {
     "ename": "IndexError",
     "evalue": "tuple index out of range",
     "output_type": "error",
     "traceback": [
      "\u001b[0;31m---------------------------------------------------------------------------\u001b[0m",
      "\u001b[0;31mIndexError\u001b[0m                                Traceback (most recent call last)",
      "\u001b[1;32m/home/mariano/Python/napde_project/mesh_building/fem_interpolation.ipynb Cell 19\u001b[0m line \u001b[0;36m1\n\u001b[1;32m     <a href='vscode-notebook-cell:/home/mariano/Python/napde_project/mesh_building/fem_interpolation.ipynb#X30sZmlsZQ%3D%3D?line=11'>12</a>\u001b[0m num_iterations \u001b[39m=\u001b[39m \u001b[39m100\u001b[39m\n\u001b[1;32m     <a href='vscode-notebook-cell:/home/mariano/Python/napde_project/mesh_building/fem_interpolation.ipynb#X30sZmlsZQ%3D%3D?line=12'>13</a>\u001b[0m \u001b[39mfor\u001b[39;00m i \u001b[39min\u001b[39;00m \u001b[39mrange\u001b[39m(num_iterations):\n\u001b[1;32m     <a href='vscode-notebook-cell:/home/mariano/Python/napde_project/mesh_building/fem_interpolation.ipynb#X30sZmlsZQ%3D%3D?line=13'>14</a>\u001b[0m     \n\u001b[1;32m     <a href='vscode-notebook-cell:/home/mariano/Python/napde_project/mesh_building/fem_interpolation.ipynb#X30sZmlsZQ%3D%3D?line=14'>15</a>\u001b[0m     \u001b[39m# Compute Voronoi diagram\u001b[39;00m\n\u001b[0;32m---> <a href='vscode-notebook-cell:/home/mariano/Python/napde_project/mesh_building/fem_interpolation.ipynb#X30sZmlsZQ%3D%3D?line=15'>16</a>\u001b[0m     vor \u001b[39m=\u001b[39m Voronoi(points)\n\u001b[1;32m     <a href='vscode-notebook-cell:/home/mariano/Python/napde_project/mesh_building/fem_interpolation.ipynb#X30sZmlsZQ%3D%3D?line=17'>18</a>\u001b[0m     \u001b[39m# Filter valid regions with at least three non-collinear points\u001b[39;00m\n\u001b[1;32m     <a href='vscode-notebook-cell:/home/mariano/Python/napde_project/mesh_building/fem_interpolation.ipynb#X30sZmlsZQ%3D%3D?line=18'>19</a>\u001b[0m     valid_regions \u001b[39m=\u001b[39m [region \u001b[39mfor\u001b[39;00m region \u001b[39min\u001b[39;00m vor\u001b[39m.\u001b[39mregions \u001b[39mif\u001b[39;00m \u001b[39mlen\u001b[39m(region) \u001b[39m>\u001b[39m\u001b[39m=\u001b[39m \u001b[39m3\u001b[39m \u001b[39mand\u001b[39;00m \u001b[39m-\u001b[39m\u001b[39m1\u001b[39m \u001b[39mnot\u001b[39;00m \u001b[39min\u001b[39;00m region]\n",
      "File \u001b[0;32m_qhull.pyx:2611\u001b[0m, in \u001b[0;36mscipy.spatial._qhull.Voronoi.__init__\u001b[0;34m()\u001b[0m\n",
      "\u001b[0;31mIndexError\u001b[0m: tuple index out of range"
     ]
    }
   ],
   "source": [
    "import numpy as np\n",
    "from scipy.spatial import Voronoi, voronoi_plot_2d\n",
    "import matplotlib.pyplot as plt\n",
    "\n",
    "# Number of nodes\n",
    "num_nodes = 10\n",
    "\n",
    "# Generate initial points forming a non-degenerate simplex\n",
    "points = np.array([[0.1, 0.1], [0.5, 0.1], [0.1, 0.2]])\n",
    "\n",
    "# Perform CVT iterations\n",
    "num_iterations = 100\n",
    "for i in range(num_iterations):\n",
    "    \n",
    "    # Compute Voronoi diagram\n",
    "    vor = Voronoi(points)\n",
    "\n",
    "    # Filter valid regions with at least three non-collinear points\n",
    "    valid_regions = [region for region in vor.regions if len(region) >= 3 and -1 not in region]\n",
    "\n",
    "    # Compute centroids of valid Voronoi cells\n",
    "    centroids = []\n",
    "    for region in valid_regions:\n",
    "        polygon_points = vor.vertices[region]\n",
    "        centroid = np.mean(polygon_points, axis=0)\n",
    "        centroids.append(centroid)\n",
    "    centroids = np.array(centroids)\n",
    "\n",
    "    # Move points toward centroids\n",
    "    points = centroids\n",
    "\n",
    "# Plot the Voronoi diagram with optimized nodes\n",
    "vor = Voronoi(points)\n",
    "fig, ax = plt.subplots()\n",
    "voronoi_plot_2d(vor, ax=ax)\n",
    "plt.plot([0, 1, 0], [0, 0, 1], 'ro')  # Plot triangle vertices\n",
    "plt.plot(points[:, 0], points[:, 1], 'bo')  # Plot optimized nodes\n",
    "plt.xlim(-0.1, 1.1)\n",
    "plt.ylim(-0.1, 1.1)\n",
    "plt.show()\n"
   ]
  },
  {
   "cell_type": "code",
   "execution_count": null,
   "metadata": {},
   "outputs": [],
   "source": []
  },
  {
   "cell_type": "code",
   "execution_count": 25,
   "metadata": {},
   "outputs": [
    {
     "ename": "QhullError",
     "evalue": "QH6214 qhull input error: not enough points(1) to construct initial simplex (need 4)\n\nWhile executing:  | qhull v Qz Qbb Qc\nOptions selected for Qhull 2019.1.r 2019/06/21:\n  run-id 1039176381  voronoi  Qz-infinity-point  Qbbound-last  Qcoplanar-keep\n  _pre-merge  _zero-centrum  Qinterior-keep  _maxoutside  0\n",
     "output_type": "error",
     "traceback": [
      "\u001b[0;31m---------------------------------------------------------------------------\u001b[0m",
      "\u001b[0;31mQhullError\u001b[0m                                Traceback (most recent call last)",
      "\u001b[1;32m/home/mariano/Python/napde_project/mesh_building/fem_interpolation.ipynb Cell 21\u001b[0m line \u001b[0;36m1\n\u001b[1;32m     <a href='vscode-notebook-cell:/home/mariano/Python/napde_project/mesh_building/fem_interpolation.ipynb#X32sZmlsZQ%3D%3D?line=9'>10</a>\u001b[0m \u001b[39m# ... Perform CVT iterations or any other operations using the points array\u001b[39;00m\n\u001b[1;32m     <a href='vscode-notebook-cell:/home/mariano/Python/napde_project/mesh_building/fem_interpolation.ipynb#X32sZmlsZQ%3D%3D?line=10'>11</a>\u001b[0m \n\u001b[1;32m     <a href='vscode-notebook-cell:/home/mariano/Python/napde_project/mesh_building/fem_interpolation.ipynb#X32sZmlsZQ%3D%3D?line=11'>12</a>\u001b[0m \u001b[39m# Compute Voronoi diagram\u001b[39;00m\n\u001b[1;32m     <a href='vscode-notebook-cell:/home/mariano/Python/napde_project/mesh_building/fem_interpolation.ipynb#X32sZmlsZQ%3D%3D?line=12'>13</a>\u001b[0m \u001b[39mfor\u001b[39;00m i \u001b[39min\u001b[39;00m \u001b[39mrange\u001b[39m(\u001b[39m10\u001b[39m):\n\u001b[0;32m---> <a href='vscode-notebook-cell:/home/mariano/Python/napde_project/mesh_building/fem_interpolation.ipynb#X32sZmlsZQ%3D%3D?line=13'>14</a>\u001b[0m     vor \u001b[39m=\u001b[39m Voronoi(points)\n\u001b[1;32m     <a href='vscode-notebook-cell:/home/mariano/Python/napde_project/mesh_building/fem_interpolation.ipynb#X32sZmlsZQ%3D%3D?line=15'>16</a>\u001b[0m     points\u001b[39m=\u001b[39mvor\u001b[39m.\u001b[39mvertices\n\u001b[1;32m     <a href='vscode-notebook-cell:/home/mariano/Python/napde_project/mesh_building/fem_interpolation.ipynb#X32sZmlsZQ%3D%3D?line=18'>19</a>\u001b[0m plt\u001b[39m.\u001b[39mfigure()\n",
      "File \u001b[0;32m_qhull.pyx:2617\u001b[0m, in \u001b[0;36mscipy.spatial._qhull.Voronoi.__init__\u001b[0;34m()\u001b[0m\n",
      "File \u001b[0;32m_qhull.pyx:353\u001b[0m, in \u001b[0;36mscipy.spatial._qhull._Qhull.__init__\u001b[0;34m()\u001b[0m\n",
      "\u001b[0;31mQhullError\u001b[0m: QH6214 qhull input error: not enough points(1) to construct initial simplex (need 4)\n\nWhile executing:  | qhull v Qz Qbb Qc\nOptions selected for Qhull 2019.1.r 2019/06/21:\n  run-id 1039176381  voronoi  Qz-infinity-point  Qbbound-last  Qcoplanar-keep\n  _pre-merge  _zero-centrum  Qinterior-keep  _maxoutside  0\n"
     ]
    }
   ],
   "source": [
    "import numpy as np\n",
    "\n",
    "# Number of nodes\n",
    "num_nodes = 10\n",
    "\n",
    "# Generate random initial points within the unit triangle\n",
    "points=np.array([[0, 0], [1, 0], [0, 1],[1/3,1/3]])\n",
    "\n",
    "\n",
    "# ... Perform CVT iterations or any other operations using the points array\n",
    "\n",
    "# Compute Voronoi diagram\n",
    "for i in range(10)\n",
    "    vor = Voronoi(points)\n",
    "\n",
    "    points=vor\n",
    "\n",
    "\n",
    "plt.figure()\n",
    "plt.scatter(points[:,0],points[:,1])\n",
    "plt.scatter(vor.vertices[:,0],vor.vertices[:,1])\n",
    "plt.legend(['my points','vor points'])"
   ]
  },
  {
   "cell_type": "code",
   "execution_count": 7,
   "metadata": {},
   "outputs": [
    {
     "name": "stdout",
     "output_type": "stream",
     "text": [
      "0\n",
      "1\n"
     ]
    },
    {
     "ename": "IndexError",
     "evalue": "tuple index out of range",
     "output_type": "error",
     "traceback": [
      "\u001b[0;31m---------------------------------------------------------------------------\u001b[0m",
      "\u001b[0;31mIndexError\u001b[0m                                Traceback (most recent call last)",
      "\u001b[1;32m/home/mariano/Python/napde_project/mesh_building/fem_interpolation.ipynb Cell 22\u001b[0m line \u001b[0;36m1\n\u001b[1;32m     <a href='vscode-notebook-cell:/home/mariano/Python/napde_project/mesh_building/fem_interpolation.ipynb#X35sZmlsZQ%3D%3D?line=14'>15</a>\u001b[0m \u001b[39mprint\u001b[39m(i)\n\u001b[1;32m     <a href='vscode-notebook-cell:/home/mariano/Python/napde_project/mesh_building/fem_interpolation.ipynb#X35sZmlsZQ%3D%3D?line=15'>16</a>\u001b[0m \u001b[39m# Compute Voronoi diagram\u001b[39;00m\n\u001b[0;32m---> <a href='vscode-notebook-cell:/home/mariano/Python/napde_project/mesh_building/fem_interpolation.ipynb#X35sZmlsZQ%3D%3D?line=16'>17</a>\u001b[0m vor \u001b[39m=\u001b[39m Voronoi(points)\n\u001b[1;32m     <a href='vscode-notebook-cell:/home/mariano/Python/napde_project/mesh_building/fem_interpolation.ipynb#X35sZmlsZQ%3D%3D?line=18'>19</a>\u001b[0m \u001b[39m# Filter valid regions with at least three non-collinear points\u001b[39;00m\n\u001b[1;32m     <a href='vscode-notebook-cell:/home/mariano/Python/napde_project/mesh_building/fem_interpolation.ipynb#X35sZmlsZQ%3D%3D?line=19'>20</a>\u001b[0m valid_regions \u001b[39m=\u001b[39m []\n",
      "File \u001b[0;32m_qhull.pyx:2611\u001b[0m, in \u001b[0;36mscipy.spatial._qhull.Voronoi.__init__\u001b[0;34m()\u001b[0m\n",
      "\u001b[0;31mIndexError\u001b[0m: tuple index out of range"
     ]
    }
   ],
   "source": [
    "import numpy as np\n",
    "from scipy.spatial import Voronoi, voronoi_plot_2d\n",
    "import matplotlib.pyplot as plt\n",
    "\n",
    "# Number of nodes\n",
    "num_nodes = 3\n",
    "\n",
    "# Generate random initial points within the unit triangle\n",
    "points = np.random.rand(num_nodes, 2)\n",
    "points[:, 1] = points[:, 1] * (1 - points[:, 0])\n",
    "\n",
    "# Perform CVT iterations\n",
    "num_iterations = 100\n",
    "for i in range(num_iterations):\n",
    "    print(i)\n",
    "    # Compute Voronoi diagram\n",
    "    vor = Voronoi(points)\n",
    "    \n",
    "    # Filter valid regions with at least three non-collinear points\n",
    "    valid_regions = []\n",
    "    for region in vor.regions:\n",
    "        if -1 not in region and len(region) >= 3:\n",
    "            polygon_points = vor.vertices[region]\n",
    "            if polygon_points.shape[0] >= 3:\n",
    "                valid_regions.append(region)\n",
    "    \n",
    "    # Compute centroids of valid Voronoi cells\n",
    "    centroids = []\n",
    "    for region in valid_regions:\n",
    "        polygon_points = vor.vertices[region]\n",
    "        centroid = np.mean(polygon_points, axis=0)\n",
    "        centroids.append(centroid)\n",
    "    centroids = np.array(centroids)\n",
    "    \n",
    "    # Move points toward centroids\n",
    "    points = centroids\n",
    "\n",
    "# Plot the Voronoi diagram with optimized nodes\n",
    "vor = Voronoi(points)\n",
    "fig, ax = plt.subplots()\n",
    "voronoi_plot_2d(vor, ax=ax)\n",
    "plt.plot([0, 1, 0], [0, 0, 1], 'ro')  # Plot triangle vertices\n",
    "plt.plot(points[:, 0], points[:, 1], 'bo')  # Plot optimized nodes\n",
    "plt.xlim(-0.1, 1.1)\n",
    "plt.ylim(-0.1, 1.1)\n",
    "plt.show()\n"
   ]
  },
  {
   "cell_type": "code",
   "execution_count": 6,
   "metadata": {},
   "outputs": [
    {
     "data": {
      "image/png": "[encoded data removed]",
      "text/plain": [
       "<Figure size 640x480 with 1 Axes>"
      ]
     },
     "metadata": {},
     "output_type": "display_data"
    }
   ],
   "source": [
    "\n",
    "plt.plot([0, 1, 0], [0, 0, 1], 'ro')  # Plot triangle vertices\n",
    "plt.plot(points[:, 0], points[:, 1], 'bo')  # Plot optimized nodes\n",
    "plt.xlim(-0.1, 1.1)\n",
    "plt.ylim(-0.1, 1.1)\n",
    "plt.show()\n"
   ]
  }
 ],
 "metadata": {
  "kernelspec": {
   "display_name": "base",
   "language": "python",
   "name": "python3"
  },
  "language_info": {
   "codemirror_mode": {
    "name": "ipython",
    "version": 3
   },
   "file_extension": ".py",
   "mimetype": "text/x-python",
   "name": "python",
   "nbconvert_exporter": "python",
   "pygments_lexer": "ipython3",
   "version": "3.9.6"
  }
 },
 "nbformat": 4,
 "nbformat_minor": 2
}
